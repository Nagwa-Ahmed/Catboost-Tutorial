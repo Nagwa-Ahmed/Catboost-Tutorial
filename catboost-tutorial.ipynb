{
 "cells": [
  {
   "cell_type": "markdown",
   "id": "21628a4a",
   "metadata": {
    "id": "3d49KZbdXAFF",
    "papermill": {
     "duration": 0.028869,
     "end_time": "2024-03-09T07:48:05.553003",
     "exception": false,
     "start_time": "2024-03-09T07:48:05.524134",
     "status": "completed"
    },
    "tags": []
   },
   "source": [
    "<a name=\"0\"></a>\n",
    "# **Table of Contents**\n",
    "## [How Catboost works](#1)\n",
    "### [1. Handling Categorical Features](#2)\n",
    "### [2. Ordered Boosting](#3)\n",
    "### [3. Symmetric trees](#4)\n",
    "## [Practical Implementation](#5)\n",
    "## [Catboost Hyperparamters](#6)\n",
    "### [1. Learning Rate](#7)\n",
    "### [2. L2 leaf regularization](#8)\n",
    "### [3. Grow policy](#9)\n",
    "### [4. Bootstrap_type](#10)\n",
    "### [5. Boosting type](#11)\n",
    "### [6. max_leaves](#12)\n",
    "### [7. min_data_in_leaf](#13)\n",
    "### [8. nan_mode](#14)\n",
    "## [Limitations](#15)\n",
    "## [Optimal Use Cases](#16)\n",
    "## [Parallelization Capabilities](#17)\n",
    "## [References](#18)"
   ]
  },
  {
   "cell_type": "markdown",
   "id": "d6881cf6",
   "metadata": {
    "id": "RlRlL_KeX68Q",
    "papermill": {
     "duration": 0.028034,
     "end_time": "2024-03-09T07:48:05.611197",
     "exception": false,
     "start_time": "2024-03-09T07:48:05.583163",
     "status": "completed"
    },
    "tags": []
   },
   "source": [
    "<center><font color='navyblue' size='6'><b>CatBoost</b></font></center>\n",
    "\n",
    "\n",
    "CatBoost, short for **`Categorical Boosting`** is an open-source gradient boosting library developed by Yandex. It’s specifically designed to work with categorical variables straight out of the box. Unlike other machine learning algorithms that require categorical variables to be converted into numerical format through one-hot encoding or similar techniques, CatBoost can process these variables natively, which significantly simplifies the data preparation process and enhances model performance."
   ]
  },
  {
   "cell_type": "markdown",
   "id": "155243bb",
   "metadata": {
    "id": "60JVrI-PYZTn",
    "papermill": {
     "duration": 0.026732,
     "end_time": "2024-03-09T07:48:05.665162",
     "exception": false,
     "start_time": "2024-03-09T07:48:05.638430",
     "status": "completed"
    },
    "tags": []
   },
   "source": [
    "<a name=\"1\"></a>\n",
    "\n",
    "## **How Catboost works**\n",
    "Current state of the art algorithms suffer from 2 main problems compared to CatBoost, Prediction Shift and Target Leakage.\n",
    "\n",
    "Target Leakage:\n",
    "\n",
    "Most algorithms use Target Statistics, it estimates the expected target y conditioned by the category. LightGBM for example groups tail categories to avoid memory and computational expense, but that results in some loss in the information.\n",
    "\n",
    "The problem with Target Statistics is that it introduces leakage into your dataset, as you are using the target to encode the input features. CatBoost solves these by introducing the concept of using the history to encode the existing point.\n",
    "\n",
    "Prediction Shift:\n",
    "\n",
    "The predictions of the train dataset are shifted from the real distribution of the targets because of the target leakage introduced. The solution to this issue lies in using different unlimited datasets in training, one at each iteration. This is infeasable in real life life. However, CatBoost proposed to use random permutations of training examples for the target statistics calculation and for ordered boosting, respectively. Combining them in one algorithm, to avoid prediction shift.\n",
    "\n",
    "\n",
    "**Catboost introduces the following algorithmic advances:**\n",
    "- 1) An innovative algorithm for `Processing categorical features`.no need to preprocess features on your own, for data with categorical features, the accuracy would be better compared to another algorithm\n",
    "\n",
    "\n",
    "- 2) The implementation of ordered boosting, a permutation-driven alternative to the classic boosting algorithm\n",
    "\n",
    "\n",
    "- 3) Fast and easy to use GPU training\n"
   ]
  },
  {
   "cell_type": "markdown",
   "id": "20a4fd84",
   "metadata": {
    "id": "-RIrXY-GYvtH",
    "papermill": {
     "duration": 0.027758,
     "end_time": "2024-03-09T07:48:05.720660",
     "exception": false,
     "start_time": "2024-03-09T07:48:05.692902",
     "status": "completed"
    },
    "tags": []
   },
   "source": [
    "<a name=\"2\"></a>\n",
    "## 1. Handling Categorical Features\n",
    "\n",
    "Catboost uses **`one_hot_max_size`** for all features with cardinality threshold less than or equal to given parameter value\n",
    "\n",
    "In case of greater than threshold of parameter given catboost uses a more effective strategy. it relies on the ordering principle and called **`Ordered Target Encoding`** :a random permutation of the dataset is performed and then target encoding of some type (for example just computing mean of the target for objects of this category) is performed on each example using only the objects that are placed before the current object.\n",
    "Generally transforming categorical features to numerical features in CatBoost includes the following steps:\n",
    "\n",
    "1.  We draw a random permutation order of the dataset\n",
    "\n",
    "\n",
    "2. Quantization for regression problems : converting continuous numerical features into discrete bins or categories\n",
    "\n",
    "\n",
    "3. Then we iterate sequentially throughout the observations respecting that new order. For every observation, we compute a statistic of interest using only the observations that we have already seen in the past.\n",
    "\n",
    "\n",
    "4. The initial observations lack sufficient training data to generate reliable estimates, resulting in significant variability. To address this challenge, the creators of CatBoost suggested generating multiple random permutations and creating an encoding for each permutation. The ultimate outcome is obtained by averaging these distinct encodings.\n",
    "\n",
    "$$ \\text{ctr} = \\frac{\\text{countInClass} + \\text{prior}}{\\text{totalCount} + 1} $$\n",
    "\n",
    "where:\n",
    "* **`countInClass`** is how many times the label value exceeded  i for objects with the current categorical feature value. It only counts objects that already have this value calculated (calculations are made in the order of the objects after shuffling).\n",
    "* **`totalCount`** is the total number of objects that have a feature value matching the current one.\n",
    "* **`prior`** is a number (constant) defined by the starting parameters."
   ]
  },
  {
   "cell_type": "markdown",
   "id": "0c766a0c",
   "metadata": {
    "id": "LeaQ5Me-Zv-3",
    "papermill": {
     "duration": 0.028734,
     "end_time": "2024-03-09T07:48:05.777506",
     "exception": false,
     "start_time": "2024-03-09T07:48:05.748772",
     "status": "completed"
    },
    "tags": []
   },
   "source": [
    "[Table of Contents](#0)"
   ]
  },
  {
   "cell_type": "code",
   "execution_count": 1,
   "id": "c16ca932",
   "metadata": {
    "execution": {
     "iopub.execute_input": "2024-03-09T07:48:05.837505Z",
     "iopub.status.busy": "2024-03-09T07:48:05.837122Z",
     "iopub.status.idle": "2024-03-09T07:48:06.851006Z",
     "shell.execute_reply": "2024-03-09T07:48:06.849968Z"
    },
    "id": "9q8tNI8IZqaN",
    "outputId": "e5cc57f4-0bd8-4ced-9ae0-7c4533a212b6",
    "papermill": {
     "duration": 1.046011,
     "end_time": "2024-03-09T07:48:06.852941",
     "exception": false,
     "start_time": "2024-03-09T07:48:05.806930",
     "status": "completed"
    },
    "tags": []
   },
   "outputs": [
    {
     "data": {
      "text/html": [
       "<style type=\"text/css\">\n",
       "#T_9c23d_row0_col0, #T_9c23d_row0_col1, #T_9c23d_row0_col2, #T_9c23d_row3_col0, #T_9c23d_row3_col1, #T_9c23d_row3_col2, #T_9c23d_row6_col0, #T_9c23d_row6_col1, #T_9c23d_row6_col2 {\n",
       "  background-color: lightblue;\n",
       "}\n",
       "#T_9c23d_row1_col0, #T_9c23d_row1_col1, #T_9c23d_row1_col2 {\n",
       "  background-color: lightcoral;\n",
       "}\n",
       "#T_9c23d_row2_col0, #T_9c23d_row2_col1, #T_9c23d_row2_col2, #T_9c23d_row4_col0, #T_9c23d_row4_col1, #T_9c23d_row4_col2, #T_9c23d_row5_col0, #T_9c23d_row5_col1, #T_9c23d_row5_col2 {\n",
       "  background-color: lightgreen;\n",
       "}\n",
       "</style>\n",
       "<table id=\"T_9c23d\">\n",
       "  <thead>\n",
       "    <tr>\n",
       "      <th class=\"blank level0\" >&nbsp;</th>\n",
       "      <th id=\"T_9c23d_level0_col0\" class=\"col_heading level0 col0\" >color</th>\n",
       "      <th id=\"T_9c23d_level0_col1\" class=\"col_heading level0 col1\" >grade</th>\n",
       "      <th id=\"T_9c23d_level0_col2\" class=\"col_heading level0 col2\" >encoded_color</th>\n",
       "    </tr>\n",
       "  </thead>\n",
       "  <tbody>\n",
       "    <tr>\n",
       "      <th id=\"T_9c23d_level0_row0\" class=\"row_heading level0 row0\" >0</th>\n",
       "      <td id=\"T_9c23d_row0_col0\" class=\"data row0 col0\" >blue</td>\n",
       "      <td id=\"T_9c23d_row0_col1\" class=\"data row0 col1\" >1</td>\n",
       "      <td id=\"T_9c23d_row0_col2\" class=\"data row0 col2\" >0.050000</td>\n",
       "    </tr>\n",
       "    <tr>\n",
       "      <th id=\"T_9c23d_level0_row1\" class=\"row_heading level0 row1\" >1</th>\n",
       "      <td id=\"T_9c23d_row1_col0\" class=\"data row1 col0\" >red</td>\n",
       "      <td id=\"T_9c23d_row1_col1\" class=\"data row1 col1\" >0</td>\n",
       "      <td id=\"T_9c23d_row1_col2\" class=\"data row1 col2\" >0.050000</td>\n",
       "    </tr>\n",
       "    <tr>\n",
       "      <th id=\"T_9c23d_level0_row2\" class=\"row_heading level0 row2\" >2</th>\n",
       "      <td id=\"T_9c23d_row2_col0\" class=\"data row2 col0\" >green</td>\n",
       "      <td id=\"T_9c23d_row2_col1\" class=\"data row2 col1\" >1</td>\n",
       "      <td id=\"T_9c23d_row2_col2\" class=\"data row2 col2\" >0.050000</td>\n",
       "    </tr>\n",
       "    <tr>\n",
       "      <th id=\"T_9c23d_level0_row3\" class=\"row_heading level0 row3\" >3</th>\n",
       "      <td id=\"T_9c23d_row3_col0\" class=\"data row3 col0\" >blue</td>\n",
       "      <td id=\"T_9c23d_row3_col1\" class=\"data row3 col1\" >0</td>\n",
       "      <td id=\"T_9c23d_row3_col2\" class=\"data row3 col2\" >0.525000</td>\n",
       "    </tr>\n",
       "    <tr>\n",
       "      <th id=\"T_9c23d_level0_row4\" class=\"row_heading level0 row4\" >4</th>\n",
       "      <td id=\"T_9c23d_row4_col0\" class=\"data row4 col0\" >green</td>\n",
       "      <td id=\"T_9c23d_row4_col1\" class=\"data row4 col1\" >1</td>\n",
       "      <td id=\"T_9c23d_row4_col2\" class=\"data row4 col2\" >0.525000</td>\n",
       "    </tr>\n",
       "    <tr>\n",
       "      <th id=\"T_9c23d_level0_row5\" class=\"row_heading level0 row5\" >5</th>\n",
       "      <td id=\"T_9c23d_row5_col0\" class=\"data row5 col0\" >green</td>\n",
       "      <td id=\"T_9c23d_row5_col1\" class=\"data row5 col1\" >0</td>\n",
       "      <td id=\"T_9c23d_row5_col2\" class=\"data row5 col2\" >0.683333</td>\n",
       "    </tr>\n",
       "    <tr>\n",
       "      <th id=\"T_9c23d_level0_row6\" class=\"row_heading level0 row6\" >6</th>\n",
       "      <td id=\"T_9c23d_row6_col0\" class=\"data row6 col0\" >blue</td>\n",
       "      <td id=\"T_9c23d_row6_col1\" class=\"data row6 col1\" >0</td>\n",
       "      <td id=\"T_9c23d_row6_col2\" class=\"data row6 col2\" >0.350000</td>\n",
       "    </tr>\n",
       "  </tbody>\n",
       "</table>\n"
      ],
      "text/plain": [
       "<pandas.io.formats.style.Styler at 0x7f6702d8c1f0>"
      ]
     },
     "execution_count": 1,
     "metadata": {},
     "output_type": "execute_result"
    }
   ],
   "source": [
    "import pandas as pd\n",
    "import numpy as np\n",
    "\n",
    "# Creating Dataset\n",
    "df = pd.DataFrame({\n",
    "'color': [\"blue\", \"red\", \"green\", \"blue\", \"green\", \"green\" , \"blue\" ],\n",
    "    'grade': [1,0, 1, 0, 1, 0, 0], })\n",
    "CTR = [] # list to save the encoded values\n",
    "for i in range(len(df)):\n",
    "    data = df.iloc[:i+1 , :]\n",
    "    totalCount = len(data[data['color'] == data.loc[i , 'color']]) -1\n",
    "    countInClass = ((data['color'] == data.loc[i , 'color']) & (data['grade'] == 1)& (data.index != i)).sum()\n",
    "    ctr = (countInClass + .05) /( totalCount + 1)\n",
    "    CTR.append(ctr)\n",
    "df['encoded_color'] = CTR\n",
    "df.style.apply(\n",
    "    lambda row: ['background-color: lightblue' if row['color'] == 'blue'\n",
    "                 else 'background-color: lightcoral' if row['color'] == 'red'\n",
    "                 else 'background-color: lightgreen' if row['color'] == 'green'\n",
    "                 else 'background-color: darkgrey'] * len(row),\n",
    "    axis=1)\n"
   ]
  },
  {
   "cell_type": "markdown",
   "id": "b014c7b1",
   "metadata": {
    "id": "IMdHVF2uZn8W",
    "papermill": {
     "duration": 0.025719,
     "end_time": "2024-03-09T07:48:06.904877",
     "exception": false,
     "start_time": "2024-03-09T07:48:06.879158",
     "status": "completed"
    },
    "tags": []
   },
   "source": [
    "<a name=\"3\"></a>\n",
    "## 2.Ordered Boosting\n",
    "- The classical boosting is prone to overfitting because when you calculate the leaf value 'Output' is the estimate of the gradient of all the objects that would be in this leaf and this estimate in classical boosting is biased because you make this estimate on the same object that you have built the model on .\n",
    "$$\n",
    "\\\n",
    "\\text{leafValue} = \\frac{\\sum_{i=1}^{n} g(\\text{apprix}(i), \\text{target}(i))}{n}\n",
    "\\\n",
    "$$\n",
    "\n",
    "- CatBoost implements an algorithm that allows to fight usual gradient boosting biases. The existed implementations face the statistical issue, **` prediction shift`**.the distribution for a training example shifts from the distribution of test example ,This problem is similar to the one that occurs in preprocessing of categorical variables\n",
    "\n",
    "- The Catboost team derived ordered boosting, a modification of standard gradient boosting algorithm, that avoids target leakage and prediction shift.by using random permutations when you are building in the tree structure then for each object you are making the estimates based on the model that has never seen this object and that gives the boost in quality in case if you have small dataset or noisy\"if you know that there might be overfitting it really helps\"\n",
    "\n",
    "$$\n",
    "\\\n",
    "\\text{leafValue} = \\frac{\\sum_{i=1}^{\\text{docs}} g(\\text{apprix}(i), \\text{target}(i))}{docs}\n",
    "\\\n",
    "$$\n"
   ]
  },
  {
   "cell_type": "markdown",
   "id": "eebe79a8",
   "metadata": {
    "id": "Oqaymy2pg3dC",
    "papermill": {
     "duration": 0.026135,
     "end_time": "2024-03-09T07:48:06.956444",
     "exception": false,
     "start_time": "2024-03-09T07:48:06.930309",
     "status": "completed"
    },
    "tags": []
   },
   "source": [
    "<a name=\"4\"></a>\n",
    "## 3. Symmetric trees\n",
    "CatBoost builds balanced trees, also known as symmetric trees, as its base predictors. Unlike traditional gradient boosting methods that build trees leaf-wise or depth-wise, CatBoost’s symmetric trees ensure that all leaf nodes at the same level share the same splitting criterion\n",
    "\n",
    "Such trees are balanced, less prone to overfitting, and allow speeding up prediction significantly at testing time.\n",
    "\n",
    "<figure style=\"text-align: center;\">\n",
    "    <img src=\"https://i.ibb.co/zsFHjTD/Screenshot-2024-03-06-205057.png\" style=\"width:75%; display: block; margin: auto;\" />\n",
    "    <figcaption>Symmetric tree of catboost</figcaption>\n",
    "</figure>"
   ]
  },
  {
   "cell_type": "markdown",
   "id": "ec674bf9",
   "metadata": {
    "id": "9Hy6CUrg3OEq",
    "papermill": {
     "duration": 0.026022,
     "end_time": "2024-03-09T07:48:07.008242",
     "exception": false,
     "start_time": "2024-03-09T07:48:06.982220",
     "status": "completed"
    },
    "tags": []
   },
   "source": [
    "[Table of Contents](#0)"
   ]
  },
  {
   "cell_type": "markdown",
   "id": "695100cf",
   "metadata": {
    "id": "_-nLJSmhjIUE",
    "papermill": {
     "duration": 0.026045,
     "end_time": "2024-03-09T07:48:07.060023",
     "exception": false,
     "start_time": "2024-03-09T07:48:07.033978",
     "status": "completed"
    },
    "tags": []
   },
   "source": [
    "<a name=\"5\"></a>\n",
    "## **Practical Implementation**"
   ]
  },
  {
   "cell_type": "markdown",
   "id": "5fb682a9",
   "metadata": {
    "id": "HMVqzgbWjkdJ",
    "papermill": {
     "duration": 0.025824,
     "end_time": "2024-03-09T07:48:07.149575",
     "exception": false,
     "start_time": "2024-03-09T07:48:07.123751",
     "status": "completed"
    },
    "tags": []
   },
   "source": [
    " **Classification Example**\n",
    "Suppose we’re working on a binary classification problem , Here’s how you can implement a **`CatBoostClassifier`**"
   ]
  },
  {
   "cell_type": "code",
   "execution_count": 2,
   "id": "60b041b5",
   "metadata": {
    "execution": {
     "iopub.execute_input": "2024-03-09T07:48:07.209286Z",
     "iopub.status.busy": "2024-03-09T07:48:07.208813Z",
     "iopub.status.idle": "2024-03-09T07:48:09.209408Z",
     "shell.execute_reply": "2024-03-09T07:48:09.208346Z"
    },
    "id": "1VkReSLuUMb3",
    "papermill": {
     "duration": 2.032945,
     "end_time": "2024-03-09T07:48:09.212127",
     "exception": false,
     "start_time": "2024-03-09T07:48:07.179182",
     "status": "completed"
    },
    "tags": []
   },
   "outputs": [],
   "source": [
    "import catboost\n",
    "import numpy as np\n",
    "import pandas as pd\n",
    "from sklearn.model_selection import train_test_split\n",
    "from sklearn.metrics import accuracy_score,precision_score,recall_score,f1_score\n",
    "import time\n",
    "import warnings\n",
    "warnings.filterwarnings('ignore')"
   ]
  },
  {
   "cell_type": "markdown",
   "id": "2f4af037",
   "metadata": {
    "id": "n9xny4tPJMrX",
    "papermill": {
     "duration": 0.027185,
     "end_time": "2024-03-09T07:48:09.267995",
     "exception": false,
     "start_time": "2024-03-09T07:48:09.240810",
     "status": "completed"
    },
    "tags": []
   },
   "source": [
    "We are going to use Adult dataset which is one of the datasets used in **Catboost** original paper to be compared to XGboost and LightGBM\n",
    "* Data consists of 32561 observations and 14 features as well as the target varaible\n",
    "* It's a classification problem where we aim to predict whether the income is less than or equal 50K or greater than 50K\n",
    "\n",
    " **Predictors are:**\n",
    "* Age\n",
    "* workclass: private,state gov, without pay.....etc\n",
    "* fnlwgt\n",
    "* Education: bachelors,masters....etc\n",
    "* Eductation num\n",
    "* Marital status\n",
    "* Occupation\n",
    "* Family status: wife ,husband,own child...etc\n",
    "* Race: white ,black....etc\n",
    "* Gender\n",
    "* Capital gain\n",
    "* Capital loss\n",
    "* Hours per week\n",
    "* Native country: United states, cuba ,china...etc\n"
   ]
  },
  {
   "cell_type": "code",
   "execution_count": 3,
   "id": "d369df22",
   "metadata": {
    "execution": {
     "iopub.execute_input": "2024-03-09T07:48:09.321965Z",
     "iopub.status.busy": "2024-03-09T07:48:09.321393Z",
     "iopub.status.idle": "2024-03-09T07:52:35.120779Z",
     "shell.execute_reply": "2024-03-09T07:52:35.119916Z"
    },
    "id": "rGDRlTsVkA8R",
    "papermill": {
     "duration": 265.8289,
     "end_time": "2024-03-09T07:52:35.123280",
     "exception": false,
     "start_time": "2024-03-09T07:48:09.294380",
     "status": "completed"
    },
    "tags": []
   },
   "outputs": [],
   "source": [
    "#Loading data\n",
    "from catboost.datasets import adult\n",
    "adult_train , adult_test = adult()"
   ]
  },
  {
   "cell_type": "code",
   "execution_count": 4,
   "id": "e880b9a0",
   "metadata": {
    "execution": {
     "iopub.execute_input": "2024-03-09T07:52:35.177595Z",
     "iopub.status.busy": "2024-03-09T07:52:35.177288Z",
     "iopub.status.idle": "2024-03-09T07:52:35.200925Z",
     "shell.execute_reply": "2024-03-09T07:52:35.199973Z"
    },
    "id": "oQ1i6hn5mDk8",
    "outputId": "2a370f25-0919-41bb-e1c6-c919c4c1a9ef",
    "papermill": {
     "duration": 0.052338,
     "end_time": "2024-03-09T07:52:35.202878",
     "exception": false,
     "start_time": "2024-03-09T07:52:35.150540",
     "status": "completed"
    },
    "tags": []
   },
   "outputs": [
    {
     "data": {
      "text/html": [
       "<div>\n",
       "<style scoped>\n",
       "    .dataframe tbody tr th:only-of-type {\n",
       "        vertical-align: middle;\n",
       "    }\n",
       "\n",
       "    .dataframe tbody tr th {\n",
       "        vertical-align: top;\n",
       "    }\n",
       "\n",
       "    .dataframe thead th {\n",
       "        text-align: right;\n",
       "    }\n",
       "</style>\n",
       "<table border=\"1\" class=\"dataframe\">\n",
       "  <thead>\n",
       "    <tr style=\"text-align: right;\">\n",
       "      <th></th>\n",
       "      <th>age</th>\n",
       "      <th>workclass</th>\n",
       "      <th>fnlwgt</th>\n",
       "      <th>education</th>\n",
       "      <th>education-num</th>\n",
       "      <th>marital-status</th>\n",
       "      <th>occupation</th>\n",
       "      <th>relationship</th>\n",
       "      <th>race</th>\n",
       "      <th>sex</th>\n",
       "      <th>capital-gain</th>\n",
       "      <th>capital-loss</th>\n",
       "      <th>hours-per-week</th>\n",
       "      <th>native-country</th>\n",
       "      <th>income</th>\n",
       "    </tr>\n",
       "  </thead>\n",
       "  <tbody>\n",
       "    <tr>\n",
       "      <th>0</th>\n",
       "      <td>39.0</td>\n",
       "      <td>State-gov</td>\n",
       "      <td>77516.0</td>\n",
       "      <td>Bachelors</td>\n",
       "      <td>13.0</td>\n",
       "      <td>Never-married</td>\n",
       "      <td>Adm-clerical</td>\n",
       "      <td>Not-in-family</td>\n",
       "      <td>White</td>\n",
       "      <td>Male</td>\n",
       "      <td>2174.0</td>\n",
       "      <td>0.0</td>\n",
       "      <td>40.0</td>\n",
       "      <td>United-States</td>\n",
       "      <td>&lt;=50K</td>\n",
       "    </tr>\n",
       "    <tr>\n",
       "      <th>1</th>\n",
       "      <td>50.0</td>\n",
       "      <td>Self-emp-not-inc</td>\n",
       "      <td>83311.0</td>\n",
       "      <td>Bachelors</td>\n",
       "      <td>13.0</td>\n",
       "      <td>Married-civ-spouse</td>\n",
       "      <td>Exec-managerial</td>\n",
       "      <td>Husband</td>\n",
       "      <td>White</td>\n",
       "      <td>Male</td>\n",
       "      <td>0.0</td>\n",
       "      <td>0.0</td>\n",
       "      <td>13.0</td>\n",
       "      <td>United-States</td>\n",
       "      <td>&lt;=50K</td>\n",
       "    </tr>\n",
       "    <tr>\n",
       "      <th>2</th>\n",
       "      <td>38.0</td>\n",
       "      <td>Private</td>\n",
       "      <td>215646.0</td>\n",
       "      <td>HS-grad</td>\n",
       "      <td>9.0</td>\n",
       "      <td>Divorced</td>\n",
       "      <td>Handlers-cleaners</td>\n",
       "      <td>Not-in-family</td>\n",
       "      <td>White</td>\n",
       "      <td>Male</td>\n",
       "      <td>0.0</td>\n",
       "      <td>0.0</td>\n",
       "      <td>40.0</td>\n",
       "      <td>United-States</td>\n",
       "      <td>&lt;=50K</td>\n",
       "    </tr>\n",
       "    <tr>\n",
       "      <th>3</th>\n",
       "      <td>53.0</td>\n",
       "      <td>Private</td>\n",
       "      <td>234721.0</td>\n",
       "      <td>11th</td>\n",
       "      <td>7.0</td>\n",
       "      <td>Married-civ-spouse</td>\n",
       "      <td>Handlers-cleaners</td>\n",
       "      <td>Husband</td>\n",
       "      <td>Black</td>\n",
       "      <td>Male</td>\n",
       "      <td>0.0</td>\n",
       "      <td>0.0</td>\n",
       "      <td>40.0</td>\n",
       "      <td>United-States</td>\n",
       "      <td>&lt;=50K</td>\n",
       "    </tr>\n",
       "    <tr>\n",
       "      <th>4</th>\n",
       "      <td>28.0</td>\n",
       "      <td>Private</td>\n",
       "      <td>338409.0</td>\n",
       "      <td>Bachelors</td>\n",
       "      <td>13.0</td>\n",
       "      <td>Married-civ-spouse</td>\n",
       "      <td>Prof-specialty</td>\n",
       "      <td>Wife</td>\n",
       "      <td>Black</td>\n",
       "      <td>Female</td>\n",
       "      <td>0.0</td>\n",
       "      <td>0.0</td>\n",
       "      <td>40.0</td>\n",
       "      <td>Cuba</td>\n",
       "      <td>&lt;=50K</td>\n",
       "    </tr>\n",
       "  </tbody>\n",
       "</table>\n",
       "</div>"
      ],
      "text/plain": [
       "    age         workclass    fnlwgt  education  education-num  \\\n",
       "0  39.0         State-gov   77516.0  Bachelors           13.0   \n",
       "1  50.0  Self-emp-not-inc   83311.0  Bachelors           13.0   \n",
       "2  38.0           Private  215646.0    HS-grad            9.0   \n",
       "3  53.0           Private  234721.0       11th            7.0   \n",
       "4  28.0           Private  338409.0  Bachelors           13.0   \n",
       "\n",
       "       marital-status         occupation   relationship   race     sex  \\\n",
       "0       Never-married       Adm-clerical  Not-in-family  White    Male   \n",
       "1  Married-civ-spouse    Exec-managerial        Husband  White    Male   \n",
       "2            Divorced  Handlers-cleaners  Not-in-family  White    Male   \n",
       "3  Married-civ-spouse  Handlers-cleaners        Husband  Black    Male   \n",
       "4  Married-civ-spouse     Prof-specialty           Wife  Black  Female   \n",
       "\n",
       "   capital-gain  capital-loss  hours-per-week native-country income  \n",
       "0        2174.0           0.0            40.0  United-States  <=50K  \n",
       "1           0.0           0.0            13.0  United-States  <=50K  \n",
       "2           0.0           0.0            40.0  United-States  <=50K  \n",
       "3           0.0           0.0            40.0  United-States  <=50K  \n",
       "4           0.0           0.0            40.0           Cuba  <=50K  "
      ]
     },
     "execution_count": 4,
     "metadata": {},
     "output_type": "execute_result"
    }
   ],
   "source": [
    "adult_train.head()"
   ]
  },
  {
   "cell_type": "code",
   "execution_count": 5,
   "id": "1f034cdc",
   "metadata": {
    "execution": {
     "iopub.execute_input": "2024-03-09T07:52:35.256416Z",
     "iopub.status.busy": "2024-03-09T07:52:35.255703Z",
     "iopub.status.idle": "2024-03-09T07:52:35.294309Z",
     "shell.execute_reply": "2024-03-09T07:52:35.293373Z"
    },
    "id": "E74GwXDtmS4_",
    "papermill": {
     "duration": 0.067525,
     "end_time": "2024-03-09T07:52:35.296353",
     "exception": false,
     "start_time": "2024-03-09T07:52:35.228828",
     "status": "completed"
    },
    "tags": []
   },
   "outputs": [],
   "source": [
    "adult_train = adult_train.dropna()"
   ]
  },
  {
   "cell_type": "code",
   "execution_count": 6,
   "id": "a2be7a94",
   "metadata": {
    "execution": {
     "iopub.execute_input": "2024-03-09T07:52:35.349904Z",
     "iopub.status.busy": "2024-03-09T07:52:35.349636Z",
     "iopub.status.idle": "2024-03-09T07:52:35.357795Z",
     "shell.execute_reply": "2024-03-09T07:52:35.357043Z"
    },
    "id": "79DB9Fi2mTHa",
    "papermill": {
     "duration": 0.03745,
     "end_time": "2024-03-09T07:52:35.359688",
     "exception": false,
     "start_time": "2024-03-09T07:52:35.322238",
     "status": "completed"
    },
    "tags": []
   },
   "outputs": [],
   "source": [
    "# Mapping income to binary classification\n",
    "adult_train['income']=adult_train['income'].map({'<=50K' : 0 , '>50K' : 1})"
   ]
  },
  {
   "cell_type": "code",
   "execution_count": 7,
   "id": "f3c0a91b",
   "metadata": {
    "execution": {
     "iopub.execute_input": "2024-03-09T07:52:35.412430Z",
     "iopub.status.busy": "2024-03-09T07:52:35.412182Z",
     "iopub.status.idle": "2024-03-09T07:52:35.421496Z",
     "shell.execute_reply": "2024-03-09T07:52:35.420855Z"
    },
    "id": "jHqJ-frBmTsb",
    "papermill": {
     "duration": 0.038,
     "end_time": "2024-03-09T07:52:35.423560",
     "exception": false,
     "start_time": "2024-03-09T07:52:35.385560",
     "status": "completed"
    },
    "tags": []
   },
   "outputs": [],
   "source": [
    "# Divide features and target\n",
    "X = adult_train.drop('income' , axis=1)\n",
    "y = adult_train.income"
   ]
  },
  {
   "cell_type": "code",
   "execution_count": 8,
   "id": "d50c3172",
   "metadata": {
    "execution": {
     "iopub.execute_input": "2024-03-09T07:52:35.481045Z",
     "iopub.status.busy": "2024-03-09T07:52:35.480744Z",
     "iopub.status.idle": "2024-03-09T07:52:35.484836Z",
     "shell.execute_reply": "2024-03-09T07:52:35.483914Z"
    },
    "id": "NVzt-nLTmmUT",
    "papermill": {
     "duration": 0.035137,
     "end_time": "2024-03-09T07:52:35.486645",
     "exception": false,
     "start_time": "2024-03-09T07:52:35.451508",
     "status": "completed"
    },
    "tags": []
   },
   "outputs": [],
   "source": [
    "#Getting categorical features\n",
    "cat_features = ['workclass' , 'education' , 'marital-status' , 'occupation' , 'relationship' ,\n",
    "                'race' ,'sex' , 'native-country']"
   ]
  },
  {
   "cell_type": "code",
   "execution_count": 9,
   "id": "01b0e125",
   "metadata": {
    "execution": {
     "iopub.execute_input": "2024-03-09T07:52:35.541999Z",
     "iopub.status.busy": "2024-03-09T07:52:35.541280Z",
     "iopub.status.idle": "2024-03-09T07:52:35.622959Z",
     "shell.execute_reply": "2024-03-09T07:52:35.622285Z"
    },
    "id": "NqRhCy5onBeN",
    "papermill": {
     "duration": 0.110251,
     "end_time": "2024-03-09T07:52:35.624939",
     "exception": false,
     "start_time": "2024-03-09T07:52:35.514688",
     "status": "completed"
    },
    "tags": []
   },
   "outputs": [],
   "source": [
    "from catboost import Pool\n",
    "pool = Pool(data=X , label=y , cat_features=cat_features)"
   ]
  },
  {
   "cell_type": "code",
   "execution_count": 10,
   "id": "ba50f7f3",
   "metadata": {
    "execution": {
     "iopub.execute_input": "2024-03-09T07:52:35.678890Z",
     "iopub.status.busy": "2024-03-09T07:52:35.678115Z",
     "iopub.status.idle": "2024-03-09T07:52:35.751717Z",
     "shell.execute_reply": "2024-03-09T07:52:35.751053Z"
    },
    "id": "UPdz13Qqmm1a",
    "papermill": {
     "duration": 0.102412,
     "end_time": "2024-03-09T07:52:35.753683",
     "exception": false,
     "start_time": "2024-03-09T07:52:35.651271",
     "status": "completed"
    },
    "tags": []
   },
   "outputs": [],
   "source": [
    "from sklearn.model_selection import train_test_split\n",
    "x_train , x_val , y_train , y_val = train_test_split(X, y , test_size=.2 , random_state=0)\n",
    "train_pool = Pool(\n",
    "        data=x_train,\n",
    "        label=y_train,\n",
    "        cat_features = cat_features\n",
    ")\n",
    "\n",
    "\n",
    "validation_pool = Pool(\n",
    "        data = x_val,\n",
    "        label=y_val,\n",
    "        cat_features = cat_features)"
   ]
  },
  {
   "cell_type": "code",
   "execution_count": 11,
   "id": "e5f71b45",
   "metadata": {
    "execution": {
     "iopub.execute_input": "2024-03-09T07:52:35.807717Z",
     "iopub.status.busy": "2024-03-09T07:52:35.807420Z",
     "iopub.status.idle": "2024-03-09T07:53:07.210762Z",
     "shell.execute_reply": "2024-03-09T07:53:07.209789Z"
    },
    "id": "PVFIAOzWnILH",
    "outputId": "97c9f09c-1737-4c68-8a9e-190ca0a899b4",
    "papermill": {
     "duration": 31.459497,
     "end_time": "2024-03-09T07:53:07.239510",
     "exception": false,
     "start_time": "2024-03-09T07:52:35.780013",
     "status": "completed"
    },
    "tags": []
   },
   "outputs": [
    {
     "name": "stdout",
     "output_type": "stream",
     "text": [
      "Learning rate set to 0.069566\n",
      "0:\tlearn: 0.6324237\ttest: 0.6332103\tbest: 0.6332103 (0)\ttotal: 78ms\tremaining: 1m 17s\n",
      "100:\tlearn: 0.2870042\ttest: 0.2976030\tbest: 0.2976030 (100)\ttotal: 3.04s\tremaining: 27.1s\n",
      "200:\tlearn: 0.2715236\ttest: 0.2886415\tbest: 0.2886415 (200)\ttotal: 6.03s\tremaining: 24s\n",
      "300:\tlearn: 0.2629174\ttest: 0.2862884\tbest: 0.2862435 (285)\ttotal: 9.06s\tremaining: 21s\n",
      "400:\tlearn: 0.2565195\ttest: 0.2854570\tbest: 0.2853909 (391)\ttotal: 12.1s\tremaining: 18.1s\n",
      "500:\tlearn: 0.2497836\ttest: 0.2856751\tbest: 0.2850291 (423)\ttotal: 15.3s\tremaining: 15.2s\n",
      "600:\tlearn: 0.2440189\ttest: 0.2852846\tbest: 0.2850291 (423)\ttotal: 18.3s\tremaining: 12.2s\n",
      "700:\tlearn: 0.2391983\ttest: 0.2854882\tbest: 0.2850291 (423)\ttotal: 21.4s\tremaining: 9.15s\n",
      "800:\tlearn: 0.2346871\ttest: 0.2859116\tbest: 0.2850291 (423)\ttotal: 24.7s\tremaining: 6.13s\n",
      "900:\tlearn: 0.2303671\ttest: 0.2861294\tbest: 0.2850291 (423)\ttotal: 27.7s\tremaining: 3.05s\n",
      "999:\tlearn: 0.2259424\ttest: 0.2864257\tbest: 0.2850291 (423)\ttotal: 31.2s\tremaining: 0us\n",
      "\n",
      "bestTest = 0.2850291018\n",
      "bestIteration = 423\n",
      "\n",
      "Shrink model to first 424 iterations.\n",
      "Model is Fitted True\n",
      "Model parameters {'iterations': 1000, 'loss_function': 'Logloss'}\n"
     ]
    }
   ],
   "source": [
    "from catboost import CatBoostClassifier\n",
    "model = CatBoostClassifier(iterations=1000,\n",
    "                           loss_function='Logloss'\n",
    "                          )\n",
    "model.fit(train_pool , eval_set=validation_pool , verbose=100)\n",
    "print('Model is Fitted {}'.format(model.is_fitted()))\n",
    "print(\"Model parameters {}\".format(model.get_params()))"
   ]
  },
  {
   "cell_type": "markdown",
   "id": "2d7ef959",
   "metadata": {
    "id": "HY5YXENwn2mn",
    "papermill": {
     "duration": 0.027848,
     "end_time": "2024-03-09T07:53:07.296943",
     "exception": false,
     "start_time": "2024-03-09T07:53:07.269095",
     "status": "completed"
    },
    "tags": []
   },
   "source": [
    "**This score without any hyperparameter tuning lets see how can we improve this with changing  hyperparameters**"
   ]
  },
  {
   "cell_type": "markdown",
   "id": "34caaf23",
   "metadata": {
    "id": "cEJHIUSe3RoM",
    "papermill": {
     "duration": 0.027715,
     "end_time": "2024-03-09T07:53:07.352730",
     "exception": false,
     "start_time": "2024-03-09T07:53:07.325015",
     "status": "completed"
    },
    "tags": []
   },
   "source": [
    "[Table of Contents](#0)"
   ]
  },
  {
   "cell_type": "markdown",
   "id": "5c34245d",
   "metadata": {
    "id": "8mfayqFC49v3",
    "papermill": {
     "duration": 0.02742,
     "end_time": "2024-03-09T07:53:07.407209",
     "exception": false,
     "start_time": "2024-03-09T07:53:07.379789",
     "status": "completed"
    },
    "tags": []
   },
   "source": [
    "<a name=\"6\"></a>\n",
    "## **Catboost Hyperparamters**"
   ]
  },
  {
   "cell_type": "code",
   "execution_count": 12,
   "id": "a01ca23e",
   "metadata": {
    "execution": {
     "iopub.execute_input": "2024-03-09T07:53:07.465707Z",
     "iopub.status.busy": "2024-03-09T07:53:07.464952Z",
     "iopub.status.idle": "2024-03-09T07:53:07.473649Z",
     "shell.execute_reply": "2024-03-09T07:53:07.472729Z"
    },
    "id": "fp3YBQH-3Iky",
    "papermill": {
     "duration": 0.04101,
     "end_time": "2024-03-09T07:53:07.475649",
     "exception": false,
     "start_time": "2024-03-09T07:53:07.434639",
     "status": "completed"
    },
    "tags": []
   },
   "outputs": [
    {
     "name": "stdout",
     "output_type": "stream",
     "text": [
      "/kaggle/input/adult-data/adult.xlsx\n"
     ]
    }
   ],
   "source": [
    "import os\n",
    "for dirname, _, filenames in os.walk('/kaggle/input'):\n",
    "    for filename in filenames:\n",
    "        print(os.path.join(dirname, filename))"
   ]
  },
  {
   "cell_type": "code",
   "execution_count": 13,
   "id": "6ee55f9f",
   "metadata": {
    "execution": {
     "iopub.execute_input": "2024-03-09T07:53:07.532255Z",
     "iopub.status.busy": "2024-03-09T07:53:07.531971Z",
     "iopub.status.idle": "2024-03-09T07:53:17.088072Z",
     "shell.execute_reply": "2024-03-09T07:53:17.086879Z"
    },
    "papermill": {
     "duration": 9.587324,
     "end_time": "2024-03-09T07:53:17.090690",
     "exception": false,
     "start_time": "2024-03-09T07:53:07.503366",
     "status": "completed"
    },
    "tags": []
   },
   "outputs": [],
   "source": [
    "df=pd.read_excel('/kaggle/input/adult-data/adult.xlsx')"
   ]
  },
  {
   "cell_type": "code",
   "execution_count": 14,
   "id": "78e9c7a8",
   "metadata": {
    "execution": {
     "iopub.execute_input": "2024-03-09T07:53:17.149534Z",
     "iopub.status.busy": "2024-03-09T07:53:17.148673Z",
     "iopub.status.idle": "2024-03-09T07:53:17.154496Z",
     "shell.execute_reply": "2024-03-09T07:53:17.153691Z"
    },
    "id": "qj7eRgMbJ1d6",
    "outputId": "f1865f10-0d18-457a-f4f5-5bfdcc2110c9",
    "papermill": {
     "duration": 0.03686,
     "end_time": "2024-03-09T07:53:17.156334",
     "exception": false,
     "start_time": "2024-03-09T07:53:17.119474",
     "status": "completed"
    },
    "tags": []
   },
   "outputs": [
    {
     "data": {
      "text/plain": [
       "(32561, 15)"
      ]
     },
     "execution_count": 14,
     "metadata": {},
     "output_type": "execute_result"
    }
   ],
   "source": [
    "df.shape"
   ]
  },
  {
   "cell_type": "code",
   "execution_count": 15,
   "id": "718d0cc1",
   "metadata": {
    "execution": {
     "iopub.execute_input": "2024-03-09T07:53:17.212448Z",
     "iopub.status.busy": "2024-03-09T07:53:17.212190Z",
     "iopub.status.idle": "2024-03-09T07:53:17.246147Z",
     "shell.execute_reply": "2024-03-09T07:53:17.245311Z"
    },
    "id": "9Z_B7W8czDkA",
    "outputId": "f6c52674-ac7e-47b5-abef-c8a080e60090",
    "papermill": {
     "duration": 0.064104,
     "end_time": "2024-03-09T07:53:17.248194",
     "exception": false,
     "start_time": "2024-03-09T07:53:17.184090",
     "status": "completed"
    },
    "tags": []
   },
   "outputs": [
    {
     "data": {
      "text/plain": [
       "age               0\n",
       "workclass         0\n",
       "fnlwgt            0\n",
       "Education         0\n",
       "education_num     0\n",
       "Marital_status    0\n",
       "occupation        0\n",
       "Family_status     0\n",
       "race              0\n",
       "Gender            0\n",
       "capital_gain      0\n",
       "capital_loss      0\n",
       "hours_per_week    0\n",
       "native_country    0\n",
       "Income            0\n",
       "dtype: int64"
      ]
     },
     "execution_count": 15,
     "metadata": {},
     "output_type": "execute_result"
    }
   ],
   "source": [
    "#Checking missing values\n",
    "df.isna().sum()"
   ]
  },
  {
   "cell_type": "code",
   "execution_count": 16,
   "id": "7ef31fe1",
   "metadata": {
    "execution": {
     "iopub.execute_input": "2024-03-09T07:53:17.305200Z",
     "iopub.status.busy": "2024-03-09T07:53:17.304445Z",
     "iopub.status.idle": "2024-03-09T07:53:17.367392Z",
     "shell.execute_reply": "2024-03-09T07:53:17.366648Z"
    },
    "id": "95o8rjlQ_Sb8",
    "papermill": {
     "duration": 0.093308,
     "end_time": "2024-03-09T07:53:17.369435",
     "exception": false,
     "start_time": "2024-03-09T07:53:17.276127",
     "status": "completed"
    },
    "tags": []
   },
   "outputs": [],
   "source": [
    "# income to binary variable\n",
    "df['Income']=df['Income'].replace('<=50K',0,regex=True)\n",
    "df['Income']=df['Income'].replace('>50K',1,regex=True)"
   ]
  },
  {
   "cell_type": "code",
   "execution_count": 17,
   "id": "31658072",
   "metadata": {
    "execution": {
     "iopub.execute_input": "2024-03-09T07:53:17.427312Z",
     "iopub.status.busy": "2024-03-09T07:53:17.426774Z",
     "iopub.status.idle": "2024-03-09T07:53:17.442807Z",
     "shell.execute_reply": "2024-03-09T07:53:17.441856Z"
    },
    "id": "X7XH98cyAnPl",
    "outputId": "91e87407-a08f-436f-d075-84da16607f9c",
    "papermill": {
     "duration": 0.047141,
     "end_time": "2024-03-09T07:53:17.445330",
     "exception": false,
     "start_time": "2024-03-09T07:53:17.398189",
     "status": "completed"
    },
    "tags": []
   },
   "outputs": [
    {
     "data": {
      "text/html": [
       "<div>\n",
       "<style scoped>\n",
       "    .dataframe tbody tr th:only-of-type {\n",
       "        vertical-align: middle;\n",
       "    }\n",
       "\n",
       "    .dataframe tbody tr th {\n",
       "        vertical-align: top;\n",
       "    }\n",
       "\n",
       "    .dataframe thead th {\n",
       "        text-align: right;\n",
       "    }\n",
       "</style>\n",
       "<table border=\"1\" class=\"dataframe\">\n",
       "  <thead>\n",
       "    <tr style=\"text-align: right;\">\n",
       "      <th></th>\n",
       "      <th>age</th>\n",
       "      <th>workclass</th>\n",
       "      <th>fnlwgt</th>\n",
       "      <th>Education</th>\n",
       "      <th>education_num</th>\n",
       "      <th>Marital_status</th>\n",
       "      <th>occupation</th>\n",
       "      <th>Family_status</th>\n",
       "      <th>race</th>\n",
       "      <th>Gender</th>\n",
       "      <th>capital_gain</th>\n",
       "      <th>capital_loss</th>\n",
       "      <th>hours_per_week</th>\n",
       "      <th>native_country</th>\n",
       "      <th>Income</th>\n",
       "    </tr>\n",
       "  </thead>\n",
       "  <tbody>\n",
       "    <tr>\n",
       "      <th>0</th>\n",
       "      <td>39</td>\n",
       "      <td>State-gov</td>\n",
       "      <td>77516</td>\n",
       "      <td>Bachelors</td>\n",
       "      <td>13</td>\n",
       "      <td>Never-married</td>\n",
       "      <td>Adm-clerical</td>\n",
       "      <td>Not-in-family</td>\n",
       "      <td>White</td>\n",
       "      <td>Male</td>\n",
       "      <td>2174</td>\n",
       "      <td>0</td>\n",
       "      <td>40</td>\n",
       "      <td>United-States</td>\n",
       "      <td>0</td>\n",
       "    </tr>\n",
       "    <tr>\n",
       "      <th>1</th>\n",
       "      <td>50</td>\n",
       "      <td>Self-emp-not-inc</td>\n",
       "      <td>83311</td>\n",
       "      <td>Bachelors</td>\n",
       "      <td>13</td>\n",
       "      <td>Married-civ-spouse</td>\n",
       "      <td>Exec-managerial</td>\n",
       "      <td>Husband</td>\n",
       "      <td>White</td>\n",
       "      <td>Male</td>\n",
       "      <td>0</td>\n",
       "      <td>0</td>\n",
       "      <td>13</td>\n",
       "      <td>United-States</td>\n",
       "      <td>0</td>\n",
       "    </tr>\n",
       "    <tr>\n",
       "      <th>2</th>\n",
       "      <td>38</td>\n",
       "      <td>Private</td>\n",
       "      <td>215646</td>\n",
       "      <td>HS-grad</td>\n",
       "      <td>9</td>\n",
       "      <td>Divorced</td>\n",
       "      <td>Handlers-cleaners</td>\n",
       "      <td>Not-in-family</td>\n",
       "      <td>White</td>\n",
       "      <td>Male</td>\n",
       "      <td>0</td>\n",
       "      <td>0</td>\n",
       "      <td>40</td>\n",
       "      <td>United-States</td>\n",
       "      <td>0</td>\n",
       "    </tr>\n",
       "    <tr>\n",
       "      <th>3</th>\n",
       "      <td>53</td>\n",
       "      <td>Private</td>\n",
       "      <td>234721</td>\n",
       "      <td>11th</td>\n",
       "      <td>7</td>\n",
       "      <td>Married-civ-spouse</td>\n",
       "      <td>Handlers-cleaners</td>\n",
       "      <td>Husband</td>\n",
       "      <td>Black</td>\n",
       "      <td>Male</td>\n",
       "      <td>0</td>\n",
       "      <td>0</td>\n",
       "      <td>40</td>\n",
       "      <td>United-States</td>\n",
       "      <td>0</td>\n",
       "    </tr>\n",
       "    <tr>\n",
       "      <th>4</th>\n",
       "      <td>28</td>\n",
       "      <td>Private</td>\n",
       "      <td>338409</td>\n",
       "      <td>Bachelors</td>\n",
       "      <td>13</td>\n",
       "      <td>Married-civ-spouse</td>\n",
       "      <td>Prof-specialty</td>\n",
       "      <td>Wife</td>\n",
       "      <td>Black</td>\n",
       "      <td>Female</td>\n",
       "      <td>0</td>\n",
       "      <td>0</td>\n",
       "      <td>40</td>\n",
       "      <td>Cuba</td>\n",
       "      <td>0</td>\n",
       "    </tr>\n",
       "  </tbody>\n",
       "</table>\n",
       "</div>"
      ],
      "text/plain": [
       "   age          workclass  fnlwgt   Education  education_num  \\\n",
       "0   39          State-gov   77516   Bachelors             13   \n",
       "1   50   Self-emp-not-inc   83311   Bachelors             13   \n",
       "2   38            Private  215646     HS-grad              9   \n",
       "3   53            Private  234721        11th              7   \n",
       "4   28            Private  338409   Bachelors             13   \n",
       "\n",
       "        Marital_status          occupation   Family_status    race   Gender  \\\n",
       "0        Never-married        Adm-clerical   Not-in-family   White     Male   \n",
       "1   Married-civ-spouse     Exec-managerial         Husband   White     Male   \n",
       "2             Divorced   Handlers-cleaners   Not-in-family   White     Male   \n",
       "3   Married-civ-spouse   Handlers-cleaners         Husband   Black     Male   \n",
       "4   Married-civ-spouse      Prof-specialty            Wife   Black   Female   \n",
       "\n",
       "   capital_gain  capital_loss  hours_per_week  native_country  Income  \n",
       "0          2174             0              40   United-States       0  \n",
       "1             0             0              13   United-States       0  \n",
       "2             0             0              40   United-States       0  \n",
       "3             0             0              40   United-States       0  \n",
       "4             0             0              40            Cuba       0  "
      ]
     },
     "execution_count": 17,
     "metadata": {},
     "output_type": "execute_result"
    }
   ],
   "source": [
    "df.head()"
   ]
  },
  {
   "cell_type": "code",
   "execution_count": 18,
   "id": "2c52a79f",
   "metadata": {
    "execution": {
     "iopub.execute_input": "2024-03-09T07:53:17.508739Z",
     "iopub.status.busy": "2024-03-09T07:53:17.508018Z",
     "iopub.status.idle": "2024-03-09T07:53:17.525498Z",
     "shell.execute_reply": "2024-03-09T07:53:17.524803Z"
    },
    "id": "qtBN2nzNn06Y",
    "papermill": {
     "duration": 0.050154,
     "end_time": "2024-03-09T07:53:17.527683",
     "exception": false,
     "start_time": "2024-03-09T07:53:17.477529",
     "status": "completed"
    },
    "tags": []
   },
   "outputs": [],
   "source": [
    "# to split categorical from numeric featuers\n",
    "df_numeric=pd.DataFrame()\n",
    "for variable in df.columns:\n",
    "      if df[variable].dtype!='object'and variable!='Income':\n",
    "        df_numeric=pd.concat([df_numeric,df[variable]],axis=1)\n"
   ]
  },
  {
   "cell_type": "code",
   "execution_count": 19,
   "id": "bdd6b1b8",
   "metadata": {
    "execution": {
     "iopub.execute_input": "2024-03-09T07:53:17.588622Z",
     "iopub.status.busy": "2024-03-09T07:53:17.587868Z",
     "iopub.status.idle": "2024-03-09T07:53:17.617597Z",
     "shell.execute_reply": "2024-03-09T07:53:17.616702Z"
    },
    "id": "YQmHWrH5uA-0",
    "papermill": {
     "duration": 0.061613,
     "end_time": "2024-03-09T07:53:17.620122",
     "exception": false,
     "start_time": "2024-03-09T07:53:17.558509",
     "status": "completed"
    },
    "tags": []
   },
   "outputs": [],
   "source": [
    "df_cat=pd.DataFrame()\n",
    "for variable in df.columns:\n",
    "      if df[variable].dtype=='object' :\n",
    "        df_cat=pd.concat([df_cat,df[variable]],axis=1)"
   ]
  },
  {
   "cell_type": "code",
   "execution_count": 20,
   "id": "de0651e2",
   "metadata": {
    "execution": {
     "iopub.execute_input": "2024-03-09T07:53:17.678683Z",
     "iopub.status.busy": "2024-03-09T07:53:17.678343Z",
     "iopub.status.idle": "2024-03-09T07:53:17.690375Z",
     "shell.execute_reply": "2024-03-09T07:53:17.689692Z"
    },
    "id": "ZMIqCCcOn0-E",
    "papermill": {
     "duration": 0.043262,
     "end_time": "2024-03-09T07:53:17.692418",
     "exception": false,
     "start_time": "2024-03-09T07:53:17.649156",
     "status": "completed"
    },
    "tags": []
   },
   "outputs": [],
   "source": [
    "cat=df_cat.to_numpy()\n",
    "Full_data=np.concatenate((df_numeric,cat),axis=1)\n",
    "y=df['Income'].to_numpy()\n",
    "X=Full_data"
   ]
  },
  {
   "cell_type": "code",
   "execution_count": 21,
   "id": "c716d7c0",
   "metadata": {
    "execution": {
     "iopub.execute_input": "2024-03-09T07:53:17.751024Z",
     "iopub.status.busy": "2024-03-09T07:53:17.750725Z",
     "iopub.status.idle": "2024-03-09T07:53:17.755949Z",
     "shell.execute_reply": "2024-03-09T07:53:17.755151Z"
    },
    "id": "z7Y5HZKBUOGu",
    "outputId": "157da1e1-a591-41a9-c2f3-ed2e18fea70e",
    "papermill": {
     "duration": 0.036728,
     "end_time": "2024-03-09T07:53:17.757834",
     "exception": false,
     "start_time": "2024-03-09T07:53:17.721106",
     "status": "completed"
    },
    "tags": []
   },
   "outputs": [
    {
     "data": {
      "text/plain": [
       "(32561, 14)"
      ]
     },
     "execution_count": 21,
     "metadata": {},
     "output_type": "execute_result"
    }
   ],
   "source": [
    "X.shape"
   ]
  },
  {
   "cell_type": "code",
   "execution_count": 22,
   "id": "7e4ddb3d",
   "metadata": {
    "execution": {
     "iopub.execute_input": "2024-03-09T07:53:17.817281Z",
     "iopub.status.busy": "2024-03-09T07:53:17.816342Z",
     "iopub.status.idle": "2024-03-09T07:53:17.839162Z",
     "shell.execute_reply": "2024-03-09T07:53:17.838458Z"
    },
    "id": "RBrQc6UJ6VXP",
    "papermill": {
     "duration": 0.054602,
     "end_time": "2024-03-09T07:53:17.841035",
     "exception": false,
     "start_time": "2024-03-09T07:53:17.786433",
     "status": "completed"
    },
    "tags": []
   },
   "outputs": [],
   "source": [
    "# splitting data into train,val , test\n",
    "X_train_temp, X_test, y_train_temp, y_test = train_test_split(X, y, test_size=0.2, random_state=42)\n",
    "X_train, X_val, y_train, y_val = train_test_split(X_train_temp, y_train_temp, test_size=0.2, random_state=42)"
   ]
  },
  {
   "cell_type": "markdown",
   "id": "eb5249c7",
   "metadata": {
    "id": "qoDZOB106ndI",
    "papermill": {
     "duration": 0.028807,
     "end_time": "2024-03-09T07:53:17.899227",
     "exception": false,
     "start_time": "2024-03-09T07:53:17.870420",
     "status": "completed"
    },
    "tags": []
   },
   "source": [
    "## Catboost library is very rich and it has many paramters to tune in the classifier, For simplicity we have chosen a set of hyperparameters to test their effect on model performance and training time"
   ]
  },
  {
   "cell_type": "code",
   "execution_count": 23,
   "id": "24f452f0",
   "metadata": {
    "execution": {
     "iopub.execute_input": "2024-03-09T07:53:17.958403Z",
     "iopub.status.busy": "2024-03-09T07:53:17.957835Z",
     "iopub.status.idle": "2024-03-09T07:53:17.962547Z",
     "shell.execute_reply": "2024-03-09T07:53:17.961720Z"
    },
    "id": "BkrYrZrDQmjp",
    "papermill": {
     "duration": 0.036451,
     "end_time": "2024-03-09T07:53:17.964422",
     "exception": false,
     "start_time": "2024-03-09T07:53:17.927971",
     "status": "completed"
    },
    "tags": []
   },
   "outputs": [],
   "source": [
    "#function to evaluate model performance\n",
    "def evaluate_model (y_test,y_pred):\n",
    "      print(f'Accuracy = {round(accuracy_score(y_test,y_pred)*100,1)} %')\n",
    "      print(f'Precision = {round(precision_score(y_test,y_pred)*100,1)} %')\n",
    "      print(f'Recall = {round(recall_score(y_test,y_pred)*100,1)}%')\n",
    "      print(f'F1 score = {round(f1_score(y_test,y_pred)*100,1)}%')"
   ]
  },
  {
   "cell_type": "markdown",
   "id": "69b964a2",
   "metadata": {
    "id": "vCJCClGtNT9c",
    "papermill": {
     "duration": 0.028881,
     "end_time": "2024-03-09T07:53:18.022499",
     "exception": false,
     "start_time": "2024-03-09T07:53:17.993618",
     "status": "completed"
    },
    "tags": []
   },
   "source": [
    "<a name=\"7\"></a>\n",
    "###  **1) Learning Rate** : is the weight given to leaf output to be used to calculate predictions"
   ]
  },
  {
   "cell_type": "code",
   "execution_count": 24,
   "id": "505a5dfd",
   "metadata": {
    "execution": {
     "iopub.execute_input": "2024-03-09T07:53:18.081151Z",
     "iopub.status.busy": "2024-03-09T07:53:18.080704Z",
     "iopub.status.idle": "2024-03-09T07:53:46.164286Z",
     "shell.execute_reply": "2024-03-09T07:53:46.163199Z"
    },
    "id": "qnTCyLf-hBwT",
    "outputId": "4180a6df-4a0e-4ba7-8e6b-d40267b08adf",
    "papermill": {
     "duration": 28.115475,
     "end_time": "2024-03-09T07:53:46.166529",
     "exception": false,
     "start_time": "2024-03-09T07:53:18.051054",
     "status": "completed"
    },
    "tags": []
   },
   "outputs": [
    {
     "name": "stdout",
     "output_type": "stream",
     "text": [
      "Learning rate set to 0.067091\n",
      "0:\tlearn: 0.6249048\ttest: 0.6251335\tbest: 0.6251335 (0)\ttotal: 31ms\tremaining: 31s\n",
      "100:\tlearn: 0.2819463\ttest: 0.2934680\tbest: 0.2934680 (100)\ttotal: 2.75s\tremaining: 24.5s\n",
      "200:\tlearn: 0.2660824\ttest: 0.2855544\tbest: 0.2855544 (200)\ttotal: 5.32s\tremaining: 21.2s\n",
      "300:\tlearn: 0.2554257\ttest: 0.2828093\tbest: 0.2827943 (292)\ttotal: 8.03s\tremaining: 18.6s\n",
      "400:\tlearn: 0.2477405\ttest: 0.2817471\tbest: 0.2817471 (400)\ttotal: 10.7s\tremaining: 16s\n",
      "500:\tlearn: 0.2413467\ttest: 0.2811878\tbest: 0.2811878 (500)\ttotal: 13.5s\tremaining: 13.5s\n",
      "600:\tlearn: 0.2354350\ttest: 0.2815630\tbest: 0.2811878 (500)\ttotal: 16.3s\tremaining: 10.8s\n",
      "700:\tlearn: 0.2300930\ttest: 0.2819460\tbest: 0.2811878 (500)\ttotal: 19.4s\tremaining: 8.29s\n",
      "800:\tlearn: 0.2246873\ttest: 0.2817773\tbest: 0.2811878 (500)\ttotal: 22.2s\tremaining: 5.51s\n",
      "900:\tlearn: 0.2190815\ttest: 0.2818115\tbest: 0.2811878 (500)\ttotal: 25s\tremaining: 2.75s\n",
      "999:\tlearn: 0.2143648\ttest: 0.2819574\tbest: 0.2811878 (500)\ttotal: 27.8s\tremaining: 0us\n",
      "\n",
      "bestTest = 0.2811877662\n",
      "bestIteration = 500\n",
      "\n",
      "Shrink model to first 501 iterations.\n",
      "Model fitted in 28.08 seconds\n"
     ]
    }
   ],
   "source": [
    "#automaticly set learning rate  based on Logloss, MultiClass & RMSE loss functions depending on the number of iterations\n",
    "#if none of parameters leaf_estimation_iterations, --leaf-estimation-method,l2_leaf_reg is set.\n",
    "clf=catboost.CatBoostClassifier(iterations=1000,verbose=100,random_seed=42)\n",
    "start=time.time()\n",
    "clf.fit(X_train,y_train,cat_features=[6,7,8,9,10,11,12,13],eval_set=(X_val,y_val))\n",
    "end=time.time()\n",
    "training_time=end-start\n",
    "print(f'Model fitted in {round(training_time,2)} seconds')"
   ]
  },
  {
   "cell_type": "code",
   "execution_count": 25,
   "id": "a8781332",
   "metadata": {
    "execution": {
     "iopub.execute_input": "2024-03-09T07:53:46.228506Z",
     "iopub.status.busy": "2024-03-09T07:53:46.228186Z",
     "iopub.status.idle": "2024-03-09T07:53:46.293607Z",
     "shell.execute_reply": "2024-03-09T07:53:46.292551Z"
    },
    "id": "ABQnFNJwhNR9",
    "outputId": "20a8d656-b7df-4bbb-a0f2-bedf49670cc6",
    "papermill": {
     "duration": 0.098347,
     "end_time": "2024-03-09T07:53:46.295708",
     "exception": false,
     "start_time": "2024-03-09T07:53:46.197361",
     "status": "completed"
    },
    "tags": []
   },
   "outputs": [
    {
     "name": "stdout",
     "output_type": "stream",
     "text": [
      "Accuracy = 87.8 %\n",
      "Precision = 78.8 %\n",
      "Recall = 67.9%\n",
      "F1 score = 72.9%\n"
     ]
    }
   ],
   "source": [
    "y_pred=clf.predict(X_test)\n",
    "evaluate_model(y_test,y_pred)"
   ]
  },
  {
   "cell_type": "code",
   "execution_count": 26,
   "id": "3f7637e2",
   "metadata": {
    "execution": {
     "iopub.execute_input": "2024-03-09T07:53:46.360249Z",
     "iopub.status.busy": "2024-03-09T07:53:46.359968Z",
     "iopub.status.idle": "2024-03-09T07:54:13.725043Z",
     "shell.execute_reply": "2024-03-09T07:54:13.724071Z"
    },
    "id": "dsY1XJRY1m3A",
    "outputId": "0a5f5ede-d319-4cfe-dcef-e2c500cacfb9",
    "papermill": {
     "duration": 27.401345,
     "end_time": "2024-03-09T07:54:13.727378",
     "exception": false,
     "start_time": "2024-03-09T07:53:46.326033",
     "status": "completed"
    },
    "tags": []
   },
   "outputs": [
    {
     "name": "stdout",
     "output_type": "stream",
     "text": [
      "0:\tlearn: 0.6823063\ttest: 0.6823443\tbest: 0.6823443 (0)\ttotal: 31ms\tremaining: 31s\n",
      "100:\tlearn: 0.3481324\ttest: 0.3498848\tbest: 0.3498848 (100)\ttotal: 2.65s\tremaining: 23.6s\n",
      "200:\tlearn: 0.3134754\ttest: 0.3162396\tbest: 0.3162396 (200)\ttotal: 5.42s\tremaining: 21.5s\n",
      "300:\tlearn: 0.3015594\ttest: 0.3057822\tbest: 0.3057822 (300)\ttotal: 8.18s\tremaining: 19s\n",
      "400:\tlearn: 0.2942198\ttest: 0.3004332\tbest: 0.3004332 (400)\ttotal: 10.9s\tremaining: 16.3s\n",
      "500:\tlearn: 0.2889540\ttest: 0.2968523\tbest: 0.2968523 (500)\ttotal: 13.6s\tremaining: 13.6s\n",
      "600:\tlearn: 0.2852732\ttest: 0.2948829\tbest: 0.2948817 (599)\ttotal: 16.3s\tremaining: 10.8s\n",
      "700:\tlearn: 0.2823781\ttest: 0.2934764\tbest: 0.2934742 (699)\ttotal: 18.9s\tremaining: 8.08s\n",
      "800:\tlearn: 0.2797573\ttest: 0.2920891\tbest: 0.2920891 (800)\ttotal: 21.6s\tremaining: 5.38s\n",
      "900:\tlearn: 0.2774970\ttest: 0.2911237\tbest: 0.2911237 (900)\ttotal: 24.5s\tremaining: 2.69s\n",
      "999:\tlearn: 0.2749761\ttest: 0.2896530\tbest: 0.2896530 (999)\ttotal: 27s\tremaining: 0us\n",
      "\n",
      "bestTest = 0.2896529801\n",
      "bestIteration = 999\n",
      "\n",
      "Model fitted in 27.36 seconds\n"
     ]
    }
   ],
   "source": [
    "#learning rate=0.01\n",
    "#default number of trees(iterations)=1000, verbose =100 , to show results every 100 iterations\n",
    "clf=catboost.CatBoostClassifier(iterations=1000,learning_rate=0.01,verbose=100,random_seed=42)\n",
    "start=time.time()\n",
    "clf.fit(X_train,y_train,cat_features=[6,7,8,9,10,11,12,13],eval_set=(X_val,y_val))\n",
    "end=time.time()\n",
    "training_time=end-start\n",
    "print(f'Model fitted in {round(training_time,2)} seconds')"
   ]
  },
  {
   "cell_type": "code",
   "execution_count": 27,
   "id": "87267272",
   "metadata": {
    "execution": {
     "iopub.execute_input": "2024-03-09T07:54:13.790635Z",
     "iopub.status.busy": "2024-03-09T07:54:13.790273Z",
     "iopub.status.idle": "2024-03-09T07:54:13.861852Z",
     "shell.execute_reply": "2024-03-09T07:54:13.860658Z"
    },
    "id": "JlGmskZTVFdg",
    "outputId": "948fc4e4-19dd-48f5-f705-5092ffcf8334",
    "papermill": {
     "duration": 0.1052,
     "end_time": "2024-03-09T07:54:13.864097",
     "exception": false,
     "start_time": "2024-03-09T07:54:13.758897",
     "status": "completed"
    },
    "tags": []
   },
   "outputs": [
    {
     "name": "stdout",
     "output_type": "stream",
     "text": [
      "Accuracy = 87.4 %\n",
      "Precision = 79.1 %\n",
      "Recall = 64.7%\n",
      "F1 score = 71.2%\n"
     ]
    }
   ],
   "source": [
    "y_pred=clf.predict(X_test)\n",
    "evaluate_model(y_test,y_pred)"
   ]
  },
  {
   "cell_type": "code",
   "execution_count": 28,
   "id": "f840c363",
   "metadata": {
    "execution": {
     "iopub.execute_input": "2024-03-09T07:54:13.928348Z",
     "iopub.status.busy": "2024-03-09T07:54:13.928059Z",
     "iopub.status.idle": "2024-03-09T07:54:42.595562Z",
     "shell.execute_reply": "2024-03-09T07:54:42.594405Z"
    },
    "id": "ncSWQ_zVVY0f",
    "outputId": "f019c887-eb1e-420c-a52f-5025289dbd84",
    "papermill": {
     "duration": 28.701688,
     "end_time": "2024-03-09T07:54:42.597806",
     "exception": false,
     "start_time": "2024-03-09T07:54:13.896118",
     "status": "completed"
    },
    "tags": []
   },
   "outputs": [
    {
     "name": "stdout",
     "output_type": "stream",
     "text": [
      "0:\tlearn: 0.5952369\ttest: 0.5955553\tbest: 0.5955553 (0)\ttotal: 29.8ms\tremaining: 29.8s\n",
      "100:\tlearn: 0.2737917\ttest: 0.2891897\tbest: 0.2891880 (99)\ttotal: 2.69s\tremaining: 24s\n",
      "200:\tlearn: 0.2554362\ttest: 0.2822633\tbest: 0.2821903 (193)\ttotal: 5.33s\tremaining: 21.2s\n",
      "300:\tlearn: 0.2435123\ttest: 0.2818742\tbest: 0.2816393 (232)\ttotal: 8.16s\tremaining: 18.9s\n",
      "400:\tlearn: 0.2341409\ttest: 0.2817917\tbest: 0.2811593 (362)\ttotal: 11s\tremaining: 16.4s\n",
      "500:\tlearn: 0.2260160\ttest: 0.2812939\tbest: 0.2809208 (489)\ttotal: 13.8s\tremaining: 13.7s\n",
      "600:\tlearn: 0.2185104\ttest: 0.2811669\tbest: 0.2809208 (489)\ttotal: 16.6s\tremaining: 11s\n",
      "700:\tlearn: 0.2106777\ttest: 0.2820709\tbest: 0.2809208 (489)\ttotal: 19.4s\tremaining: 8.29s\n",
      "800:\tlearn: 0.2040436\ttest: 0.2826772\tbest: 0.2809208 (489)\ttotal: 22.2s\tremaining: 5.52s\n",
      "900:\tlearn: 0.1981026\ttest: 0.2834479\tbest: 0.2809208 (489)\ttotal: 25s\tremaining: 2.75s\n",
      "999:\tlearn: 0.1925533\ttest: 0.2840588\tbest: 0.2809208 (489)\ttotal: 28.4s\tremaining: 0us\n",
      "\n",
      "bestTest = 0.2809207649\n",
      "bestIteration = 489\n",
      "\n",
      "Shrink model to first 490 iterations.\n",
      "Model fitted in 28.66 seconds\n"
     ]
    }
   ],
   "source": [
    "#learning rate=0.1\n",
    "clf=catboost.CatBoostClassifier(learning_rate=0.1,verbose=100,random_seed=42)\n",
    "start=time.time()\n",
    "clf.fit(X_train,y_train,cat_features=[6,7,8,9,10,11,12,13],eval_set=(X_val,y_val))\n",
    "end=time.time()\n",
    "training_time=end-start\n",
    "print(f'Model fitted in {round(training_time,2)} seconds')"
   ]
  },
  {
   "cell_type": "code",
   "execution_count": 29,
   "id": "f774b159",
   "metadata": {
    "execution": {
     "iopub.execute_input": "2024-03-09T07:54:42.664473Z",
     "iopub.status.busy": "2024-03-09T07:54:42.664155Z",
     "iopub.status.idle": "2024-03-09T07:54:42.728705Z",
     "shell.execute_reply": "2024-03-09T07:54:42.727752Z"
    },
    "id": "oq_WJg17Vry6",
    "outputId": "e5147c58-69a2-4bd1-b1a6-ce85586bcf0e",
    "papermill": {
     "duration": 0.099544,
     "end_time": "2024-03-09T07:54:42.730637",
     "exception": false,
     "start_time": "2024-03-09T07:54:42.631093",
     "status": "completed"
    },
    "tags": []
   },
   "outputs": [
    {
     "name": "stdout",
     "output_type": "stream",
     "text": [
      "Accuracy = 87.7 %\n",
      "Precision = 78.3 %\n",
      "Recall = 68.0%\n",
      "F1 score = 72.8%\n"
     ]
    }
   ],
   "source": [
    "y_pred=clf.predict(X_test)\n",
    "evaluate_model(y_test,y_pred)"
   ]
  },
  {
   "cell_type": "code",
   "execution_count": 30,
   "id": "79311284",
   "metadata": {
    "execution": {
     "iopub.execute_input": "2024-03-09T07:54:42.795689Z",
     "iopub.status.busy": "2024-03-09T07:54:42.795366Z",
     "iopub.status.idle": "2024-03-09T07:55:11.003362Z",
     "shell.execute_reply": "2024-03-09T07:55:11.002302Z"
    },
    "id": "eRI-vfyEV03v",
    "outputId": "4e4163fb-8acb-48cf-d685-a8de5476a7f0",
    "papermill": {
     "duration": 28.243119,
     "end_time": "2024-03-09T07:55:11.005832",
     "exception": false,
     "start_time": "2024-03-09T07:54:42.762713",
     "status": "completed"
    },
    "tags": []
   },
   "outputs": [
    {
     "name": "stdout",
     "output_type": "stream",
     "text": [
      "0:\tlearn: 0.5195499\ttest: 0.5200523\tbest: 0.5200523 (0)\ttotal: 31.6ms\tremaining: 31.5s\n",
      "100:\tlearn: 0.2553256\ttest: 0.2842527\tbest: 0.2837815 (83)\ttotal: 2.73s\tremaining: 24.3s\n",
      "200:\tlearn: 0.2350277\ttest: 0.2842300\tbest: 0.2830372 (155)\ttotal: 5.46s\tremaining: 21.7s\n",
      "300:\tlearn: 0.2182575\ttest: 0.2849617\tbest: 0.2830372 (155)\ttotal: 8.27s\tremaining: 19.2s\n",
      "400:\tlearn: 0.2041632\ttest: 0.2872916\tbest: 0.2830372 (155)\ttotal: 11s\tremaining: 16.5s\n",
      "500:\tlearn: 0.1926095\ttest: 0.2893456\tbest: 0.2830372 (155)\ttotal: 13.8s\tremaining: 13.7s\n",
      "600:\tlearn: 0.1832756\ttest: 0.2912935\tbest: 0.2830372 (155)\ttotal: 16.6s\tremaining: 11s\n",
      "700:\tlearn: 0.1725922\ttest: 0.2927472\tbest: 0.2830372 (155)\ttotal: 19.5s\tremaining: 8.3s\n",
      "800:\tlearn: 0.1636031\ttest: 0.2961164\tbest: 0.2830372 (155)\ttotal: 22.3s\tremaining: 5.53s\n",
      "900:\tlearn: 0.1563993\ttest: 0.2983600\tbest: 0.2830372 (155)\ttotal: 25.1s\tremaining: 2.76s\n",
      "999:\tlearn: 0.1483367\ttest: 0.3005922\tbest: 0.2830372 (155)\ttotal: 27.9s\tremaining: 0us\n",
      "\n",
      "bestTest = 0.2830372256\n",
      "bestIteration = 155\n",
      "\n",
      "Shrink model to first 156 iterations.\n",
      "Model fitted in 28.2 seconds\n"
     ]
    }
   ],
   "source": [
    "#learning rate=0.2\n",
    "clf=catboost.CatBoostClassifier(learning_rate=0.2,verbose=100,random_seed=42)\n",
    "start=time.time()\n",
    "clf.fit(X_train,y_train,cat_features=[6,7,8,9,10,11,12,13],eval_set=(X_val,y_val))\n",
    "end=time.time()\n",
    "training_time=end-start\n",
    "print(f'Model fitted in {round(training_time,2)} seconds')"
   ]
  },
  {
   "cell_type": "code",
   "execution_count": 31,
   "id": "fc901934",
   "metadata": {
    "execution": {
     "iopub.execute_input": "2024-03-09T07:55:11.075648Z",
     "iopub.status.busy": "2024-03-09T07:55:11.074900Z",
     "iopub.status.idle": "2024-03-09T07:55:11.131619Z",
     "shell.execute_reply": "2024-03-09T07:55:11.130509Z"
    },
    "id": "HaBySzfvV03v",
    "outputId": "986554f0-d060-4190-c2b2-7c5937d6a58c",
    "papermill": {
     "duration": 0.093748,
     "end_time": "2024-03-09T07:55:11.133504",
     "exception": false,
     "start_time": "2024-03-09T07:55:11.039756",
     "status": "completed"
    },
    "tags": []
   },
   "outputs": [
    {
     "name": "stdout",
     "output_type": "stream",
     "text": [
      "Accuracy = 87.7 %\n",
      "Precision = 78.3 %\n",
      "Recall = 67.9%\n",
      "F1 score = 72.8%\n"
     ]
    }
   ],
   "source": [
    "y_pred=clf.predict(X_test)\n",
    "evaluate_model(y_test,y_pred)"
   ]
  },
  {
   "cell_type": "code",
   "execution_count": 32,
   "id": "945711e3",
   "metadata": {
    "execution": {
     "iopub.execute_input": "2024-03-09T07:55:11.206189Z",
     "iopub.status.busy": "2024-03-09T07:55:11.205782Z",
     "iopub.status.idle": "2024-03-09T07:55:39.817571Z",
     "shell.execute_reply": "2024-03-09T07:55:39.816663Z"
    },
    "id": "YX4rNjhZGjoD",
    "outputId": "8761c092-e7dc-471c-e8bd-0bb8450f3c13",
    "papermill": {
     "duration": 28.652828,
     "end_time": "2024-03-09T07:55:39.819781",
     "exception": false,
     "start_time": "2024-03-09T07:55:11.166953",
     "status": "completed"
    },
    "tags": []
   },
   "outputs": [
    {
     "name": "stdout",
     "output_type": "stream",
     "text": [
      "0:\tlearn: 0.4891696\ttest: 0.4897156\tbest: 0.4897156 (0)\ttotal: 38.7ms\tremaining: 38.7s\n",
      "100:\tlearn: 0.2515604\ttest: 0.2838858\tbest: 0.2838529 (83)\ttotal: 2.99s\tremaining: 26.6s\n",
      "200:\tlearn: 0.2293473\ttest: 0.2845151\tbest: 0.2837584 (105)\ttotal: 5.67s\tremaining: 22.5s\n",
      "300:\tlearn: 0.2096712\ttest: 0.2861294\tbest: 0.2837584 (105)\ttotal: 8.5s\tremaining: 19.7s\n",
      "400:\tlearn: 0.1949462\ttest: 0.2892737\tbest: 0.2837584 (105)\ttotal: 11.3s\tremaining: 16.9s\n",
      "500:\tlearn: 0.1801893\ttest: 0.2930828\tbest: 0.2837584 (105)\ttotal: 14.1s\tremaining: 14s\n",
      "600:\tlearn: 0.1684673\ttest: 0.2976701\tbest: 0.2837584 (105)\ttotal: 16.9s\tremaining: 11.2s\n",
      "700:\tlearn: 0.1581764\ttest: 0.3020269\tbest: 0.2837584 (105)\ttotal: 19.8s\tremaining: 8.45s\n",
      "800:\tlearn: 0.1478398\ttest: 0.3051241\tbest: 0.2837584 (105)\ttotal: 22.7s\tremaining: 5.63s\n",
      "900:\tlearn: 0.1389224\ttest: 0.3089050\tbest: 0.2837584 (105)\ttotal: 25.5s\tremaining: 2.8s\n",
      "999:\tlearn: 0.1309568\ttest: 0.3114515\tbest: 0.2837584 (105)\ttotal: 28.3s\tremaining: 0us\n",
      "\n",
      "bestTest = 0.2837584068\n",
      "bestIteration = 105\n",
      "\n",
      "Shrink model to first 106 iterations.\n",
      "Model fitted in 28.6 seconds\n"
     ]
    }
   ],
   "source": [
    "#learning rate=0.25\n",
    "clf=catboost.CatBoostClassifier(learning_rate=0.25,verbose=100,random_seed=42)\n",
    "start=time.time()\n",
    "clf.fit(X_train,y_train,cat_features=[6,7,8,9,10,11,12,13],eval_set=(X_val,y_val))\n",
    "end=time.time()\n",
    "training_time=end-start\n",
    "print(f'Model fitted in {round(training_time,2)} seconds')"
   ]
  },
  {
   "cell_type": "code",
   "execution_count": 33,
   "id": "6f808eb1",
   "metadata": {
    "execution": {
     "iopub.execute_input": "2024-03-09T07:55:39.890321Z",
     "iopub.status.busy": "2024-03-09T07:55:39.890028Z",
     "iopub.status.idle": "2024-03-09T07:55:39.944548Z",
     "shell.execute_reply": "2024-03-09T07:55:39.943550Z"
    },
    "id": "uMx-aBC-GjoE",
    "outputId": "089b1cc8-fbb7-4f88-c960-022f60e50e13",
    "papermill": {
     "duration": 0.091663,
     "end_time": "2024-03-09T07:55:39.946581",
     "exception": false,
     "start_time": "2024-03-09T07:55:39.854918",
     "status": "completed"
    },
    "tags": []
   },
   "outputs": [
    {
     "name": "stdout",
     "output_type": "stream",
     "text": [
      "Accuracy = 87.6 %\n",
      "Precision = 77.7 %\n",
      "Recall = 68.0%\n",
      "F1 score = 72.5%\n"
     ]
    }
   ],
   "source": [
    "y_pred=clf.predict(X_test)\n",
    "evaluate_model(y_test,y_pred)"
   ]
  },
  {
   "cell_type": "markdown",
   "id": "89235cdf",
   "metadata": {
    "id": "qZo3_9uAAuki",
    "papermill": {
     "duration": 0.034057,
     "end_time": "2024-03-09T07:55:40.016828",
     "exception": false,
     "start_time": "2024-03-09T07:55:39.982771",
     "status": "completed"
    },
    "tags": []
   },
   "source": [
    "Higher learning rate leads to achieving best iteration earlier than small learning rate , it seems that after this iteration the model starts to overfit and give slightly lower accuracy , however high learning rate leads to higher training time\n",
    "* we will proceed with learning rate=0.1"
   ]
  },
  {
   "cell_type": "markdown",
   "id": "073064f7",
   "metadata": {
    "id": "jKXfEbXx3XJK",
    "papermill": {
     "duration": 0.03398,
     "end_time": "2024-03-09T07:55:40.084893",
     "exception": false,
     "start_time": "2024-03-09T07:55:40.050913",
     "status": "completed"
    },
    "tags": []
   },
   "source": [
    "[Table of Contents](#0)"
   ]
  },
  {
   "cell_type": "markdown",
   "id": "56ae139b",
   "metadata": {
    "id": "3L0PQ5S96O0H",
    "papermill": {
     "duration": 0.034702,
     "end_time": "2024-03-09T07:55:40.154145",
     "exception": false,
     "start_time": "2024-03-09T07:55:40.119443",
     "status": "completed"
    },
    "tags": []
   },
   "source": [
    "<a name=\"8\"></a>\n",
    "###  **2) L2 leaf regularization** : is used to smooth weights to avoid overfitting"
   ]
  },
  {
   "cell_type": "code",
   "execution_count": 34,
   "id": "2ddc6512",
   "metadata": {
    "execution": {
     "iopub.execute_input": "2024-03-09T07:55:40.224437Z",
     "iopub.status.busy": "2024-03-09T07:55:40.224131Z",
     "iopub.status.idle": "2024-03-09T07:56:09.042118Z",
     "shell.execute_reply": "2024-03-09T07:56:09.041084Z"
    },
    "id": "esJpw050HuDT",
    "outputId": "8b1fbbf6-f21c-419d-b110-58aafbf76340",
    "papermill": {
     "duration": 28.854977,
     "end_time": "2024-03-09T07:56:09.044398",
     "exception": false,
     "start_time": "2024-03-09T07:55:40.189421",
     "status": "completed"
    },
    "tags": []
   },
   "outputs": [
    {
     "name": "stdout",
     "output_type": "stream",
     "text": [
      "0:\tlearn: 0.5932358\ttest: 0.5935547\tbest: 0.5935547 (0)\ttotal: 31.5ms\tremaining: 31.4s\n",
      "100:\tlearn: 0.2636021\ttest: 0.2868684\tbest: 0.2868684 (100)\ttotal: 2.74s\tremaining: 24.4s\n",
      "200:\tlearn: 0.2383880\ttest: 0.2813151\tbest: 0.2805174 (150)\ttotal: 5.86s\tremaining: 23.3s\n",
      "300:\tlearn: 0.2215984\ttest: 0.2816939\tbest: 0.2805174 (150)\ttotal: 8.65s\tremaining: 20.1s\n",
      "400:\tlearn: 0.2075431\ttest: 0.2822540\tbest: 0.2805174 (150)\ttotal: 11.5s\tremaining: 17.1s\n",
      "500:\tlearn: 0.1948248\ttest: 0.2868218\tbest: 0.2805174 (150)\ttotal: 14.3s\tremaining: 14.2s\n",
      "600:\tlearn: 0.1840303\ttest: 0.2900302\tbest: 0.2805174 (150)\ttotal: 17.1s\tremaining: 11.3s\n",
      "700:\tlearn: 0.1739241\ttest: 0.2913301\tbest: 0.2805174 (150)\ttotal: 20s\tremaining: 8.53s\n",
      "800:\tlearn: 0.1647212\ttest: 0.2952060\tbest: 0.2805174 (150)\ttotal: 22.9s\tremaining: 5.68s\n",
      "900:\tlearn: 0.1566633\ttest: 0.2981615\tbest: 0.2805174 (150)\ttotal: 25.7s\tremaining: 2.83s\n",
      "999:\tlearn: 0.1485252\ttest: 0.3013744\tbest: 0.2805174 (150)\ttotal: 28.5s\tremaining: 0us\n",
      "\n",
      "bestTest = 0.2805174371\n",
      "bestIteration = 150\n",
      "\n",
      "Shrink model to first 151 iterations.\n",
      "Model fitted in 28.81 seconds\n"
     ]
    }
   ],
   "source": [
    "#l2 leaf regularization=0.001\n",
    "clf=catboost.CatBoostClassifier(learning_rate=0.1,l2_leaf_reg=0.001,verbose=100,random_seed=42)\n",
    "start=time.time()\n",
    "clf.fit(X_train,y_train,cat_features=[6,7,8,9,10,11,12,13],eval_set=(X_val,y_val))\n",
    "end=time.time()\n",
    "training_time=end-start\n",
    "print(f'Model fitted in {round(training_time,2)} seconds')"
   ]
  },
  {
   "cell_type": "code",
   "execution_count": 35,
   "id": "01535c9a",
   "metadata": {
    "execution": {
     "iopub.execute_input": "2024-03-09T07:56:09.116769Z",
     "iopub.status.busy": "2024-03-09T07:56:09.116436Z",
     "iopub.status.idle": "2024-03-09T07:56:09.174236Z",
     "shell.execute_reply": "2024-03-09T07:56:09.173393Z"
    },
    "id": "vVoZN63MHuDV",
    "outputId": "6076eff9-7bc8-4c12-9df8-2cddee1b6fc0",
    "papermill": {
     "duration": 0.09561,
     "end_time": "2024-03-09T07:56:09.176036",
     "exception": false,
     "start_time": "2024-03-09T07:56:09.080426",
     "status": "completed"
    },
    "tags": []
   },
   "outputs": [
    {
     "name": "stdout",
     "output_type": "stream",
     "text": [
      "Accuracy = 87.8 %\n",
      "Precision = 78.9 %\n",
      "Recall = 67.5%\n",
      "F1 score = 72.8%\n"
     ]
    }
   ],
   "source": [
    "y_pred=clf.predict(X_test)\n",
    "evaluate_model(y_test,y_pred)"
   ]
  },
  {
   "cell_type": "code",
   "execution_count": 36,
   "id": "ed250a0f",
   "metadata": {
    "execution": {
     "iopub.execute_input": "2024-03-09T07:56:09.249236Z",
     "iopub.status.busy": "2024-03-09T07:56:09.248691Z",
     "iopub.status.idle": "2024-03-09T07:56:37.725011Z",
     "shell.execute_reply": "2024-03-09T07:56:37.723978Z"
    },
    "id": "Ji0H0DikLx97",
    "outputId": "429579c0-1925-4560-bf94-9c9b3193aae2",
    "papermill": {
     "duration": 28.515416,
     "end_time": "2024-03-09T07:56:37.727441",
     "exception": false,
     "start_time": "2024-03-09T07:56:09.212025",
     "status": "completed"
    },
    "tags": []
   },
   "outputs": [
    {
     "name": "stdout",
     "output_type": "stream",
     "text": [
      "0:\tlearn: 0.5945399\ttest: 0.5948648\tbest: 0.5948648 (0)\ttotal: 30.4ms\tremaining: 30.3s\n",
      "100:\tlearn: 0.2714608\ttest: 0.2885550\tbest: 0.2885550 (100)\ttotal: 2.74s\tremaining: 24.4s\n",
      "200:\tlearn: 0.2498425\ttest: 0.2811125\tbest: 0.2810510 (196)\ttotal: 5.46s\tremaining: 21.7s\n",
      "300:\tlearn: 0.2363654\ttest: 0.2817325\tbest: 0.2805849 (225)\ttotal: 8.61s\tremaining: 20s\n",
      "400:\tlearn: 0.2250869\ttest: 0.2813015\tbest: 0.2805849 (225)\ttotal: 11.4s\tremaining: 17.1s\n",
      "500:\tlearn: 0.2141780\ttest: 0.2818502\tbest: 0.2805849 (225)\ttotal: 14.2s\tremaining: 14.1s\n",
      "600:\tlearn: 0.2056623\ttest: 0.2829574\tbest: 0.2805849 (225)\ttotal: 16.9s\tremaining: 11.2s\n",
      "700:\tlearn: 0.1978667\ttest: 0.2841859\tbest: 0.2805849 (225)\ttotal: 19.7s\tremaining: 8.38s\n",
      "800:\tlearn: 0.1897216\ttest: 0.2853209\tbest: 0.2805849 (225)\ttotal: 22.5s\tremaining: 5.59s\n",
      "900:\tlearn: 0.1819720\ttest: 0.2864540\tbest: 0.2805849 (225)\ttotal: 25.4s\tremaining: 2.79s\n",
      "999:\tlearn: 0.1753588\ttest: 0.2874456\tbest: 0.2805849 (225)\ttotal: 28.2s\tremaining: 0us\n",
      "\n",
      "bestTest = 0.280584868\n",
      "bestIteration = 225\n",
      "\n",
      "Shrink model to first 226 iterations.\n",
      "Model fitted in 28.47 seconds\n"
     ]
    }
   ],
   "source": [
    "#l2 leaf regularization=0.5\n",
    "clf=catboost.CatBoostClassifier(learning_rate=0.1,l2_leaf_reg=0.5,verbose=100,random_seed=42)\n",
    "start=time.time()\n",
    "clf.fit(X_train,y_train,cat_features=[6,7,8,9,10,11,12,13],eval_set=(X_val,y_val))\n",
    "end=time.time()\n",
    "training_time=end-start\n",
    "print(f'Model fitted in {round(training_time,2)} seconds')"
   ]
  },
  {
   "cell_type": "code",
   "execution_count": 37,
   "id": "8d178bd7",
   "metadata": {
    "execution": {
     "iopub.execute_input": "2024-03-09T07:56:37.800541Z",
     "iopub.status.busy": "2024-03-09T07:56:37.800236Z",
     "iopub.status.idle": "2024-03-09T07:56:37.859771Z",
     "shell.execute_reply": "2024-03-09T07:56:37.858787Z"
    },
    "id": "YRsY-DhKLx99",
    "outputId": "9b0659ac-b379-40e5-a813-bc3f4702e0a1",
    "papermill": {
     "duration": 0.097982,
     "end_time": "2024-03-09T07:56:37.861863",
     "exception": false,
     "start_time": "2024-03-09T07:56:37.763881",
     "status": "completed"
    },
    "tags": []
   },
   "outputs": [
    {
     "name": "stdout",
     "output_type": "stream",
     "text": [
      "Accuracy = 88.0 %\n",
      "Precision = 78.9 %\n",
      "Recall = 68.7%\n",
      "F1 score = 73.5%\n"
     ]
    }
   ],
   "source": [
    "y_pred=clf.predict(X_test)\n",
    "evaluate_model(y_test,y_pred)"
   ]
  },
  {
   "cell_type": "code",
   "execution_count": 38,
   "id": "1f1b1e20",
   "metadata": {
    "execution": {
     "iopub.execute_input": "2024-03-09T07:56:37.940578Z",
     "iopub.status.busy": "2024-03-09T07:56:37.940254Z",
     "iopub.status.idle": "2024-03-09T07:57:06.608774Z",
     "shell.execute_reply": "2024-03-09T07:57:06.607843Z"
    },
    "id": "iIwsQ0_NMCqa",
    "outputId": "bf9c0d66-1933-4aa1-8af0-6a6dd7fefed8",
    "papermill": {
     "duration": 28.710866,
     "end_time": "2024-03-09T07:57:06.611184",
     "exception": false,
     "start_time": "2024-03-09T07:56:37.900318",
     "status": "completed"
    },
    "tags": []
   },
   "outputs": [
    {
     "name": "stdout",
     "output_type": "stream",
     "text": [
      "0:\tlearn: 0.5947648\ttest: 0.5950885\tbest: 0.5950885 (0)\ttotal: 30.6ms\tremaining: 30.5s\n",
      "100:\tlearn: 0.2733033\ttest: 0.2895401\tbest: 0.2894534 (95)\ttotal: 2.75s\tremaining: 24.5s\n",
      "200:\tlearn: 0.2517651\ttest: 0.2822205\tbest: 0.2820003 (185)\ttotal: 5.46s\tremaining: 21.7s\n",
      "300:\tlearn: 0.2392577\ttest: 0.2812038\tbest: 0.2807956 (273)\ttotal: 8.2s\tremaining: 19s\n",
      "400:\tlearn: 0.2287838\ttest: 0.2818232\tbest: 0.2805515 (325)\ttotal: 11.5s\tremaining: 17.1s\n",
      "500:\tlearn: 0.2186377\ttest: 0.2829661\tbest: 0.2805515 (325)\ttotal: 14.3s\tremaining: 14.2s\n",
      "600:\tlearn: 0.2095064\ttest: 0.2839810\tbest: 0.2805515 (325)\ttotal: 17.1s\tremaining: 11.3s\n",
      "700:\tlearn: 0.2010400\ttest: 0.2851927\tbest: 0.2805515 (325)\ttotal: 19.8s\tremaining: 8.46s\n",
      "800:\tlearn: 0.1934301\ttest: 0.2860837\tbest: 0.2805515 (325)\ttotal: 22.8s\tremaining: 5.65s\n",
      "900:\tlearn: 0.1868481\ttest: 0.2870715\tbest: 0.2805515 (325)\ttotal: 25.6s\tremaining: 2.81s\n",
      "999:\tlearn: 0.1799973\ttest: 0.2886144\tbest: 0.2805515 (325)\ttotal: 28.4s\tremaining: 0us\n",
      "\n",
      "bestTest = 0.2805514925\n",
      "bestIteration = 325\n",
      "\n",
      "Shrink model to first 326 iterations.\n",
      "Model fitted in 28.66 seconds\n"
     ]
    }
   ],
   "source": [
    "#l2 leaf regularization=1\n",
    "clf=catboost.CatBoostClassifier(learning_rate=0.1,l2_leaf_reg=1,verbose=100,random_seed=42)\n",
    "start=time.time()\n",
    "clf.fit(X_train,y_train,cat_features=[6,7,8,9,10,11,12,13],eval_set=(X_val,y_val))\n",
    "end=time.time()\n",
    "training_time=end-start\n",
    "print(f'Model fitted in {round(training_time,2)} seconds')"
   ]
  },
  {
   "cell_type": "code",
   "execution_count": 39,
   "id": "268a9b1a",
   "metadata": {
    "execution": {
     "iopub.execute_input": "2024-03-09T07:57:06.686954Z",
     "iopub.status.busy": "2024-03-09T07:57:06.686661Z",
     "iopub.status.idle": "2024-03-09T07:57:06.747201Z",
     "shell.execute_reply": "2024-03-09T07:57:06.746332Z"
    },
    "id": "UYT4M4wzMCqz",
    "outputId": "e11214ef-3389-415f-e860-feb080bc9e91",
    "papermill": {
     "duration": 0.100076,
     "end_time": "2024-03-09T07:57:06.749051",
     "exception": false,
     "start_time": "2024-03-09T07:57:06.648975",
     "status": "completed"
    },
    "tags": []
   },
   "outputs": [
    {
     "name": "stdout",
     "output_type": "stream",
     "text": [
      "Accuracy = 88.0 %\n",
      "Precision = 78.6 %\n",
      "Recall = 69.1%\n",
      "F1 score = 73.5%\n"
     ]
    }
   ],
   "source": [
    "y_pred=clf.predict(X_test)\n",
    "evaluate_model(y_test,y_pred)"
   ]
  },
  {
   "cell_type": "markdown",
   "id": "7b39696d",
   "metadata": {
    "id": "0EpuPbydDezL",
    "papermill": {
     "duration": 0.037209,
     "end_time": "2024-03-09T07:57:06.823309",
     "exception": false,
     "start_time": "2024-03-09T07:57:06.786100",
     "status": "completed"
    },
    "tags": []
   },
   "source": [
    "least training for l2_leaf_reg=0.5 with slight differences in accuracy\n",
    "* we will proceed with l2_leaf_reg=0.5"
   ]
  },
  {
   "cell_type": "markdown",
   "id": "de405a5f",
   "metadata": {
    "id": "asUaoZOU3Zxg",
    "papermill": {
     "duration": 0.036517,
     "end_time": "2024-03-09T07:57:06.897424",
     "exception": false,
     "start_time": "2024-03-09T07:57:06.860907",
     "status": "completed"
    },
    "tags": []
   },
   "source": [
    "[Table of Contents](#0)"
   ]
  },
  {
   "cell_type": "markdown",
   "id": "53fc7dce",
   "metadata": {
    "id": "CCKoTLgu6sPL",
    "papermill": {
     "duration": 0.037305,
     "end_time": "2024-03-09T07:57:06.971415",
     "exception": false,
     "start_time": "2024-03-09T07:57:06.934110",
     "status": "completed"
    },
    "tags": []
   },
   "source": [
    "<a name=\"9\"></a>\n",
    "###  **3) Grow policy**\n",
    "* Symmetric tree: All leaves from last tree level are split with same condition\n",
    "* Depthwise: A tree is built level by level unti specified depth is reached\n",
    "* Lossguide: A tree is built leaf by leaf until max number of leaves is reached"
   ]
  },
  {
   "cell_type": "code",
   "execution_count": 40,
   "id": "0b414b62",
   "metadata": {
    "execution": {
     "iopub.execute_input": "2024-03-09T07:57:07.047101Z",
     "iopub.status.busy": "2024-03-09T07:57:07.046775Z",
     "iopub.status.idle": "2024-03-09T07:57:35.662960Z",
     "shell.execute_reply": "2024-03-09T07:57:35.661885Z"
    },
    "id": "4DyioxsQCUnP",
    "outputId": "8d162e19-5865-4776-fffc-88601ded3b04",
    "papermill": {
     "duration": 28.656578,
     "end_time": "2024-03-09T07:57:35.665264",
     "exception": false,
     "start_time": "2024-03-09T07:57:07.008686",
     "status": "completed"
    },
    "tags": []
   },
   "outputs": [
    {
     "name": "stdout",
     "output_type": "stream",
     "text": [
      "0:\tlearn: 0.5945399\ttest: 0.5948648\tbest: 0.5948648 (0)\ttotal: 30.2ms\tremaining: 30.2s\n",
      "100:\tlearn: 0.2714608\ttest: 0.2885550\tbest: 0.2885550 (100)\ttotal: 2.73s\tremaining: 24.4s\n",
      "200:\tlearn: 0.2498425\ttest: 0.2811125\tbest: 0.2810510 (196)\ttotal: 5.45s\tremaining: 21.6s\n",
      "300:\tlearn: 0.2363654\ttest: 0.2817325\tbest: 0.2805849 (225)\ttotal: 8.2s\tremaining: 19s\n",
      "400:\tlearn: 0.2250869\ttest: 0.2813015\tbest: 0.2805849 (225)\ttotal: 11s\tremaining: 16.4s\n",
      "500:\tlearn: 0.2141780\ttest: 0.2818502\tbest: 0.2805849 (225)\ttotal: 14.2s\tremaining: 14.2s\n",
      "600:\tlearn: 0.2056623\ttest: 0.2829574\tbest: 0.2805849 (225)\ttotal: 17s\tremaining: 11.3s\n",
      "700:\tlearn: 0.1978667\ttest: 0.2841859\tbest: 0.2805849 (225)\ttotal: 19.8s\tremaining: 8.44s\n",
      "800:\tlearn: 0.1897216\ttest: 0.2853209\tbest: 0.2805849 (225)\ttotal: 22.6s\tremaining: 5.62s\n",
      "900:\tlearn: 0.1819720\ttest: 0.2864540\tbest: 0.2805849 (225)\ttotal: 25.5s\tremaining: 2.8s\n",
      "999:\tlearn: 0.1753588\ttest: 0.2874456\tbest: 0.2805849 (225)\ttotal: 28.3s\tremaining: 0us\n",
      "\n",
      "bestTest = 0.280584868\n",
      "bestIteration = 225\n",
      "\n",
      "Shrink model to first 226 iterations.\n",
      "Model fitted in 28.61 seconds\n"
     ]
    }
   ],
   "source": [
    "###Symmetric is the default\n",
    "clf=catboost.CatBoostClassifier(learning_rate=0.1,l2_leaf_reg=0.5,verbose=100,random_seed=42)\n",
    "start=time.time()\n",
    "clf.fit(X_train,y_train,cat_features=[6,7,8,9,10,11,12,13],eval_set=(X_val,y_val))\n",
    "end=time.time()\n",
    "training_time=end-start\n",
    "print(f'Model fitted in {round(training_time,2)} seconds')"
   ]
  },
  {
   "cell_type": "code",
   "execution_count": 41,
   "id": "931167a8",
   "metadata": {
    "execution": {
     "iopub.execute_input": "2024-03-09T07:57:35.744845Z",
     "iopub.status.busy": "2024-03-09T07:57:35.743873Z",
     "iopub.status.idle": "2024-03-09T07:57:35.801022Z",
     "shell.execute_reply": "2024-03-09T07:57:35.800174Z"
    },
    "id": "bdePGD1k9Pvv",
    "outputId": "bbb028a1-96ca-45d0-c353-b357ad2d130d",
    "papermill": {
     "duration": 0.099268,
     "end_time": "2024-03-09T07:57:35.802983",
     "exception": false,
     "start_time": "2024-03-09T07:57:35.703715",
     "status": "completed"
    },
    "tags": []
   },
   "outputs": [
    {
     "name": "stdout",
     "output_type": "stream",
     "text": [
      "Accuracy = 88.0 %\n",
      "Precision = 78.9 %\n",
      "Recall = 68.7%\n",
      "F1 score = 73.5%\n"
     ]
    }
   ],
   "source": [
    "y_pred=clf.predict(X_test)\n",
    "evaluate_model(y_test,y_pred)"
   ]
  },
  {
   "cell_type": "code",
   "execution_count": 42,
   "id": "dde6f52d",
   "metadata": {
    "execution": {
     "iopub.execute_input": "2024-03-09T07:57:35.884206Z",
     "iopub.status.busy": "2024-03-09T07:57:35.883913Z",
     "iopub.status.idle": "2024-03-09T07:57:54.892735Z",
     "shell.execute_reply": "2024-03-09T07:57:54.891532Z"
    },
    "id": "wrfjCxwOSmNn",
    "outputId": "96d186d7-bccb-4a30-bc1e-2b5f9f364ea2",
    "papermill": {
     "duration": 19.049738,
     "end_time": "2024-03-09T07:57:54.894857",
     "exception": false,
     "start_time": "2024-03-09T07:57:35.845119",
     "status": "completed"
    },
    "tags": []
   },
   "outputs": [
    {
     "name": "stdout",
     "output_type": "stream",
     "text": [
      "0:\tlearn: 0.5998386\ttest: 0.6004418\tbest: 0.6004418 (0)\ttotal: 23ms\tremaining: 23s\n",
      "100:\tlearn: 0.2580632\ttest: 0.2838573\tbest: 0.2838573 (100)\ttotal: 1.83s\tremaining: 16.3s\n",
      "200:\tlearn: 0.2253977\ttest: 0.2833439\tbest: 0.2810162 (138)\ttotal: 3.65s\tremaining: 14.5s\n",
      "300:\tlearn: 0.2000787\ttest: 0.2853718\tbest: 0.2810162 (138)\ttotal: 5.41s\tremaining: 12.6s\n",
      "400:\tlearn: 0.1786780\ttest: 0.2893496\tbest: 0.2810162 (138)\ttotal: 7.21s\tremaining: 10.8s\n",
      "500:\tlearn: 0.1580061\ttest: 0.2963995\tbest: 0.2810162 (138)\ttotal: 9.03s\tremaining: 9s\n",
      "600:\tlearn: 0.1404394\ttest: 0.3036854\tbest: 0.2810162 (138)\ttotal: 10.9s\tremaining: 7.21s\n",
      "700:\tlearn: 0.1245573\ttest: 0.3103634\tbest: 0.2810162 (138)\ttotal: 12.7s\tremaining: 5.43s\n",
      "800:\tlearn: 0.1123588\ttest: 0.3154687\tbest: 0.2810162 (138)\ttotal: 14.7s\tremaining: 3.66s\n",
      "900:\tlearn: 0.1000992\ttest: 0.3225391\tbest: 0.2810162 (138)\ttotal: 16.9s\tremaining: 1.85s\n",
      "999:\tlearn: 0.0889745\ttest: 0.3281205\tbest: 0.2810162 (138)\ttotal: 18.7s\tremaining: 0us\n",
      "\n",
      "bestTest = 0.28101622\n",
      "bestIteration = 138\n",
      "\n",
      "Shrink model to first 139 iterations.\n",
      "Model fitted in 19.0 seconds\n"
     ]
    }
   ],
   "source": [
    "###Depthwise grow policy\n",
    "clf=catboost.CatBoostClassifier(learning_rate=0.1,grow_policy='Depthwise',l2_leaf_reg=0.5,verbose=100,random_seed=42)\n",
    "start=time.time()\n",
    "clf.fit(X_train,y_train,cat_features=[6,7,8,9,10,11,12,13],eval_set=(X_val,y_val))\n",
    "end=time.time()\n",
    "training_time=end-start\n",
    "print(f'Model fitted in {round(training_time,2)} seconds')"
   ]
  },
  {
   "cell_type": "code",
   "execution_count": 43,
   "id": "718c5937",
   "metadata": {
    "execution": {
     "iopub.execute_input": "2024-03-09T07:57:54.975407Z",
     "iopub.status.busy": "2024-03-09T07:57:54.975089Z",
     "iopub.status.idle": "2024-03-09T07:57:55.036908Z",
     "shell.execute_reply": "2024-03-09T07:57:55.035945Z"
    },
    "id": "eNpzdAwvSmNp",
    "outputId": "5952225d-a2c8-4c9b-d6cd-c2bad130f4bf",
    "papermill": {
     "duration": 0.103577,
     "end_time": "2024-03-09T07:57:55.038945",
     "exception": false,
     "start_time": "2024-03-09T07:57:54.935368",
     "status": "completed"
    },
    "tags": []
   },
   "outputs": [
    {
     "name": "stdout",
     "output_type": "stream",
     "text": [
      "Accuracy = 87.8 %\n",
      "Precision = 78.7 %\n",
      "Recall = 67.9%\n",
      "F1 score = 72.9%\n"
     ]
    }
   ],
   "source": [
    "y_pred=clf.predict(X_test)\n",
    "evaluate_model(y_test,y_pred)"
   ]
  },
  {
   "cell_type": "code",
   "execution_count": 44,
   "id": "66011f8f",
   "metadata": {
    "execution": {
     "iopub.execute_input": "2024-03-09T07:57:55.117965Z",
     "iopub.status.busy": "2024-03-09T07:57:55.117693Z",
     "iopub.status.idle": "2024-03-09T07:58:16.069932Z",
     "shell.execute_reply": "2024-03-09T07:58:16.069016Z"
    },
    "id": "aYSwXMm2S7jr",
    "outputId": "5760ce7f-2750-4058-9d90-6a9a46188786",
    "papermill": {
     "duration": 20.994113,
     "end_time": "2024-03-09T07:58:16.072200",
     "exception": false,
     "start_time": "2024-03-09T07:57:55.078087",
     "status": "completed"
    },
    "tags": []
   },
   "outputs": [
    {
     "name": "stdout",
     "output_type": "stream",
     "text": [
      "0:\tlearn: 0.6030690\ttest: 0.6039207\tbest: 0.6039207 (0)\ttotal: 25.4ms\tremaining: 25.3s\n",
      "100:\tlearn: 0.2657071\ttest: 0.2868104\tbest: 0.2868104 (100)\ttotal: 2.19s\tremaining: 19.5s\n",
      "200:\tlearn: 0.2372165\ttest: 0.2801849\tbest: 0.2797425 (175)\ttotal: 4.47s\tremaining: 17.8s\n",
      "300:\tlearn: 0.2172126\ttest: 0.2831768\tbest: 0.2797425 (175)\ttotal: 6.63s\tremaining: 15.4s\n",
      "400:\tlearn: 0.2002546\ttest: 0.2849174\tbest: 0.2797425 (175)\ttotal: 8.7s\tremaining: 13s\n",
      "500:\tlearn: 0.1849820\ttest: 0.2888861\tbest: 0.2797425 (175)\ttotal: 10.8s\tremaining: 10.7s\n",
      "600:\tlearn: 0.1712273\ttest: 0.2918731\tbest: 0.2797425 (175)\ttotal: 12.8s\tremaining: 8.48s\n",
      "700:\tlearn: 0.1587420\ttest: 0.2965670\tbest: 0.2797425 (175)\ttotal: 14.8s\tremaining: 6.3s\n",
      "800:\tlearn: 0.1466736\ttest: 0.2999217\tbest: 0.2797425 (175)\ttotal: 16.7s\tremaining: 4.16s\n",
      "900:\tlearn: 0.1358889\ttest: 0.3033201\tbest: 0.2797425 (175)\ttotal: 18.7s\tremaining: 2.06s\n",
      "999:\tlearn: 0.1256977\ttest: 0.3074916\tbest: 0.2797425 (175)\ttotal: 20.7s\tremaining: 0us\n",
      "\n",
      "bestTest = 0.2797425025\n",
      "bestIteration = 175\n",
      "\n",
      "Shrink model to first 176 iterations.\n",
      "Model fitted in 20.95 seconds\n"
     ]
    }
   ],
   "source": [
    "###Lossguide grow policy\n",
    "clf=catboost.CatBoostClassifier(learning_rate=0.1,grow_policy='Lossguide',l2_leaf_reg=0.5,verbose=100,random_seed=42)\n",
    "start=time.time()\n",
    "clf.fit(X_train,y_train,cat_features=[6,7,8,9,10,11,12,13],eval_set=(X_val,y_val))\n",
    "end=time.time()\n",
    "training_time=end-start\n",
    "print(f'Model fitted in {round(training_time,2)} seconds')"
   ]
  },
  {
   "cell_type": "code",
   "execution_count": 45,
   "id": "3cc0f53c",
   "metadata": {
    "execution": {
     "iopub.execute_input": "2024-03-09T07:58:16.155975Z",
     "iopub.status.busy": "2024-03-09T07:58:16.155673Z",
     "iopub.status.idle": "2024-03-09T07:58:16.219769Z",
     "shell.execute_reply": "2024-03-09T07:58:16.218639Z"
    },
    "id": "PRtmVex5S7jt",
    "outputId": "aa000b33-c006-4e07-85ac-fa76d978168a",
    "papermill": {
     "duration": 0.10891,
     "end_time": "2024-03-09T07:58:16.221783",
     "exception": false,
     "start_time": "2024-03-09T07:58:16.112873",
     "status": "completed"
    },
    "tags": []
   },
   "outputs": [
    {
     "name": "stdout",
     "output_type": "stream",
     "text": [
      "Accuracy = 87.7 %\n",
      "Precision = 77.9 %\n",
      "Recall = 68.3%\n",
      "F1 score = 72.8%\n"
     ]
    }
   ],
   "source": [
    "y_pred=clf.predict(X_test)\n",
    "evaluate_model(y_test,y_pred)"
   ]
  },
  {
   "cell_type": "markdown",
   "id": "e351f8a0",
   "metadata": {
    "id": "RnDRQPkdHrfg",
    "papermill": {
     "duration": 0.039528,
     "end_time": "2024-03-09T07:58:16.301637",
     "exception": false,
     "start_time": "2024-03-09T07:58:16.262109",
     "status": "completed"
    },
    "tags": []
   },
   "source": [
    "According to catboost authors symmetric trees are much faster than other types although we find that it doesn't yeild least training time which may be a result from the fact that we are using high learning rate\n",
    "we will proceed with symmetric grow policy"
   ]
  },
  {
   "cell_type": "markdown",
   "id": "60430525",
   "metadata": {
    "id": "SQsaWKpP3co4",
    "papermill": {
     "duration": 0.039727,
     "end_time": "2024-03-09T07:58:16.381194",
     "exception": false,
     "start_time": "2024-03-09T07:58:16.341467",
     "status": "completed"
    },
    "tags": []
   },
   "source": [
    "[Table of Contents](#0)"
   ]
  },
  {
   "cell_type": "markdown",
   "id": "2ce74e94",
   "metadata": {
    "id": "f7g4Lp-dzf7w",
    "papermill": {
     "duration": 0.042908,
     "end_time": "2024-03-09T07:58:16.463885",
     "exception": false,
     "start_time": "2024-03-09T07:58:16.420977",
     "status": "completed"
    },
    "tags": []
   },
   "source": [
    "<a name=\"10\"></a>\n",
    "\n",
    "### **4) Bootstrap_type**: it's used to determine the weights of examples when splitting the tree , supported boostrap types are:\n",
    "* Bayesian\n",
    "* MVS:Minimum Variance Sampling\n",
    "* Poisson `supported for GPU only`\n",
    "* Bernoulli\n",
    "* or no sampling: equal weights for examples"
   ]
  },
  {
   "cell_type": "markdown",
   "id": "0deefeb8",
   "metadata": {
    "id": "OVL5omlK0ko-",
    "papermill": {
     "duration": 0.039836,
     "end_time": "2024-03-09T07:58:16.543896",
     "exception": false,
     "start_time": "2024-03-09T07:58:16.504060",
     "status": "completed"
    },
    "tags": []
   },
   "source": [
    "Bayseian"
   ]
  },
  {
   "cell_type": "code",
   "execution_count": 46,
   "id": "57fecb01",
   "metadata": {
    "execution": {
     "iopub.execute_input": "2024-03-09T07:58:16.626210Z",
     "iopub.status.busy": "2024-03-09T07:58:16.625794Z",
     "iopub.status.idle": "2024-03-09T07:58:44.864558Z",
     "shell.execute_reply": "2024-03-09T07:58:44.863569Z"
    },
    "id": "ry33NDDOzAVw",
    "outputId": "224c66c0-e1e9-4073-ac43-e9acc30f944a",
    "papermill": {
     "duration": 28.28331,
     "end_time": "2024-03-09T07:58:44.866765",
     "exception": false,
     "start_time": "2024-03-09T07:58:16.583455",
     "status": "completed"
    },
    "tags": []
   },
   "outputs": [
    {
     "name": "stdout",
     "output_type": "stream",
     "text": [
      "0:\tlearn: 0.6644727\ttest: 0.6647705\tbest: 0.6647705 (0)\ttotal: 24.3ms\tremaining: 24.3s\n",
      "100:\tlearn: 0.3001741\ttest: 0.3047258\tbest: 0.3047258 (100)\ttotal: 2.73s\tremaining: 24.3s\n",
      "200:\tlearn: 0.2851763\ttest: 0.2956241\tbest: 0.2956241 (200)\ttotal: 5.43s\tremaining: 21.6s\n",
      "300:\tlearn: 0.2760543\ttest: 0.2916553\tbest: 0.2916553 (300)\ttotal: 8.57s\tremaining: 19.9s\n",
      "400:\tlearn: 0.2675631\ttest: 0.2882005\tbest: 0.2881894 (399)\ttotal: 11.3s\tremaining: 16.9s\n",
      "500:\tlearn: 0.2602447\ttest: 0.2855096\tbest: 0.2854755 (485)\ttotal: 14.1s\tremaining: 14.1s\n",
      "600:\tlearn: 0.2548030\ttest: 0.2849942\tbest: 0.2849369 (589)\ttotal: 16.9s\tremaining: 11.2s\n",
      "700:\tlearn: 0.2495963\ttest: 0.2841204\tbest: 0.2840963 (699)\ttotal: 19.7s\tremaining: 8.38s\n",
      "800:\tlearn: 0.2449276\ttest: 0.2838492\tbest: 0.2838052 (799)\ttotal: 22.4s\tremaining: 5.56s\n",
      "900:\tlearn: 0.2407378\ttest: 0.2834190\tbest: 0.2833793 (891)\ttotal: 25.2s\tremaining: 2.77s\n",
      "999:\tlearn: 0.2367194\ttest: 0.2837893\tbest: 0.2833793 (891)\ttotal: 27.9s\tremaining: 0us\n",
      "\n",
      "bestTest = 0.2833793338\n",
      "bestIteration = 891\n",
      "\n",
      "Shrink model to first 892 iterations.\n",
      "Model fitted in 28.23 seconds\n"
     ]
    }
   ],
   "source": [
    "clf=catboost.CatBoostClassifier(learning_rate=0.03,random_seed=42,l2_leaf_reg=0.5,bootstrap_type='Bayesian',verbose=100)\n",
    "start=time.time()\n",
    "clf.fit(X_train,y_train,cat_features=[6,7,8,9,10,11,12,13],eval_set=(X_val,y_val))\n",
    "end=time.time()\n",
    "training_time=end-start\n",
    "print(f'Model fitted in {round(training_time,2)} seconds')"
   ]
  },
  {
   "cell_type": "code",
   "execution_count": 47,
   "id": "e73e3970",
   "metadata": {
    "execution": {
     "iopub.execute_input": "2024-03-09T07:58:44.949921Z",
     "iopub.status.busy": "2024-03-09T07:58:44.949625Z",
     "iopub.status.idle": "2024-03-09T07:58:45.014003Z",
     "shell.execute_reply": "2024-03-09T07:58:45.013046Z"
    },
    "id": "xAqIGNbtzHuG",
    "outputId": "8b0e208b-4919-452f-a57c-30da2b0d597c",
    "papermill": {
     "duration": 0.107672,
     "end_time": "2024-03-09T07:58:45.015833",
     "exception": false,
     "start_time": "2024-03-09T07:58:44.908161",
     "status": "completed"
    },
    "tags": []
   },
   "outputs": [
    {
     "name": "stdout",
     "output_type": "stream",
     "text": [
      "Accuracy = 87.9 %\n",
      "Precision = 78.3 %\n",
      "Recall = 68.8%\n",
      "F1 score = 73.3%\n"
     ]
    }
   ],
   "source": [
    "y_pred=clf.predict(X_test)\n",
    "evaluate_model(y_test,y_pred)"
   ]
  },
  {
   "cell_type": "markdown",
   "id": "b24b3b3e",
   "metadata": {
    "id": "LdMEcj8Q0nan",
    "papermill": {
     "duration": 0.040894,
     "end_time": "2024-03-09T07:58:45.098423",
     "exception": false,
     "start_time": "2024-03-09T07:58:45.057529",
     "status": "completed"
    },
    "tags": []
   },
   "source": [
    "MVS"
   ]
  },
  {
   "cell_type": "code",
   "execution_count": 48,
   "id": "09dc6bcf",
   "metadata": {
    "execution": {
     "iopub.execute_input": "2024-03-09T07:58:45.182475Z",
     "iopub.status.busy": "2024-03-09T07:58:45.182180Z",
     "iopub.status.idle": "2024-03-09T07:59:13.165100Z",
     "shell.execute_reply": "2024-03-09T07:59:13.164105Z"
    },
    "id": "XrmzY-Wk0pbv",
    "outputId": "2f5a91f8-6340-4146-a680-692a0870ec5a",
    "papermill": {
     "duration": 28.027306,
     "end_time": "2024-03-09T07:59:13.167270",
     "exception": false,
     "start_time": "2024-03-09T07:58:45.139964",
     "status": "completed"
    },
    "tags": []
   },
   "outputs": [
    {
     "name": "stdout",
     "output_type": "stream",
     "text": [
      "0:\tlearn: 0.6610685\ttest: 0.6611818\tbest: 0.6611818 (0)\ttotal: 30.7ms\tremaining: 30.7s\n",
      "100:\tlearn: 0.3000568\ttest: 0.3057228\tbest: 0.3057228 (100)\ttotal: 2.72s\tremaining: 24.2s\n",
      "200:\tlearn: 0.2833762\ttest: 0.2949945\tbest: 0.2949945 (200)\ttotal: 5.5s\tremaining: 21.9s\n",
      "300:\tlearn: 0.2738627\ttest: 0.2898677\tbest: 0.2898622 (299)\ttotal: 8.06s\tremaining: 18.7s\n",
      "400:\tlearn: 0.2647084\ttest: 0.2850429\tbest: 0.2850119 (399)\ttotal: 11.1s\tremaining: 16.6s\n",
      "500:\tlearn: 0.2579450\ttest: 0.2825031\tbest: 0.2824672 (498)\ttotal: 13.8s\tremaining: 13.8s\n",
      "600:\tlearn: 0.2527986\ttest: 0.2821027\tbest: 0.2821027 (600)\ttotal: 16.7s\tremaining: 11.1s\n",
      "700:\tlearn: 0.2482473\ttest: 0.2819458\tbest: 0.2818844 (684)\ttotal: 19.4s\tremaining: 8.27s\n",
      "800:\tlearn: 0.2441327\ttest: 0.2816757\tbest: 0.2816521 (796)\ttotal: 22.1s\tremaining: 5.49s\n",
      "900:\tlearn: 0.2400126\ttest: 0.2815939\tbest: 0.2814782 (830)\ttotal: 24.9s\tremaining: 2.73s\n",
      "999:\tlearn: 0.2365537\ttest: 0.2813364\tbest: 0.2813354 (998)\ttotal: 27.6s\tremaining: 0us\n",
      "\n",
      "bestTest = 0.2813354441\n",
      "bestIteration = 998\n",
      "\n",
      "Shrink model to first 999 iterations.\n",
      "Model fitted in 27.98 seconds\n"
     ]
    }
   ],
   "source": [
    "clf=catboost.CatBoostClassifier(learning_rate=0.03,random_seed=42,l2_leaf_reg=0.5,bootstrap_type='MVS',verbose=100)\n",
    "start=time.time()\n",
    "clf.fit(X_train,y_train,cat_features=[6,7,8,9,10,11,12,13],eval_set=(X_val,y_val))\n",
    "end=time.time()\n",
    "training_time=end-start\n",
    "print(f'Model fitted in {round(training_time,2)} seconds')"
   ]
  },
  {
   "cell_type": "code",
   "execution_count": 49,
   "id": "f82a21a9",
   "metadata": {
    "execution": {
     "iopub.execute_input": "2024-03-09T07:59:13.256230Z",
     "iopub.status.busy": "2024-03-09T07:59:13.255909Z",
     "iopub.status.idle": "2024-03-09T07:59:13.331868Z",
     "shell.execute_reply": "2024-03-09T07:59:13.330841Z"
    },
    "id": "2oF1psq50pbw",
    "outputId": "36244a37-1e64-4ba1-8c45-29816639f83f",
    "papermill": {
     "duration": 0.121947,
     "end_time": "2024-03-09T07:59:13.333894",
     "exception": false,
     "start_time": "2024-03-09T07:59:13.211947",
     "status": "completed"
    },
    "tags": []
   },
   "outputs": [
    {
     "name": "stdout",
     "output_type": "stream",
     "text": [
      "Accuracy = 88.0 %\n",
      "Precision = 78.7 %\n",
      "Recall = 68.9%\n",
      "F1 score = 73.5%\n"
     ]
    }
   ],
   "source": [
    "y_pred=clf.predict(X_test)\n",
    "evaluate_model(y_test,y_pred)"
   ]
  },
  {
   "cell_type": "markdown",
   "id": "dd82d07f",
   "metadata": {
    "id": "chwdVnBp092A",
    "papermill": {
     "duration": 0.041908,
     "end_time": "2024-03-09T07:59:13.418639",
     "exception": false,
     "start_time": "2024-03-09T07:59:13.376731",
     "status": "completed"
    },
    "tags": []
   },
   "source": [
    "Almost same performance with less training time than bayesian sampling since according to catboost library documentation MVS is better for speeding up the training"
   ]
  },
  {
   "cell_type": "markdown",
   "id": "2af8abca",
   "metadata": {
    "id": "YewmAEbr1uV0",
    "papermill": {
     "duration": 0.042258,
     "end_time": "2024-03-09T07:59:13.504939",
     "exception": false,
     "start_time": "2024-03-09T07:59:13.462681",
     "status": "completed"
    },
    "tags": []
   },
   "source": [
    "Bernoulli"
   ]
  },
  {
   "cell_type": "code",
   "execution_count": 50,
   "id": "f673a816",
   "metadata": {
    "execution": {
     "iopub.execute_input": "2024-03-09T07:59:13.589789Z",
     "iopub.status.busy": "2024-03-09T07:59:13.589467Z",
     "iopub.status.idle": "2024-03-09T07:59:40.253577Z",
     "shell.execute_reply": "2024-03-09T07:59:40.252681Z"
    },
    "id": "jJ0zvNfV1xir",
    "outputId": "29d64758-062c-4ccc-8eea-2ba3b5cc44ab",
    "papermill": {
     "duration": 26.70878,
     "end_time": "2024-03-09T07:59:40.256044",
     "exception": false,
     "start_time": "2024-03-09T07:59:13.547264",
     "status": "completed"
    },
    "tags": []
   },
   "outputs": [
    {
     "name": "stdout",
     "output_type": "stream",
     "text": [
      "0:\tlearn: 0.6646120\ttest: 0.6646486\tbest: 0.6646486 (0)\ttotal: 24.8ms\tremaining: 24.8s\n",
      "100:\tlearn: 0.3010294\ttest: 0.3061794\tbest: 0.3061794 (100)\ttotal: 2.55s\tremaining: 22.7s\n",
      "200:\tlearn: 0.2854213\ttest: 0.2961021\tbest: 0.2961021 (200)\ttotal: 5.03s\tremaining: 20s\n",
      "300:\tlearn: 0.2756031\ttest: 0.2911594\tbest: 0.2911594 (300)\ttotal: 7.53s\tremaining: 17.5s\n",
      "400:\tlearn: 0.2664717\ttest: 0.2868016\tbest: 0.2868016 (400)\ttotal: 10.1s\tremaining: 15.1s\n",
      "500:\tlearn: 0.2590339\ttest: 0.2844889\tbest: 0.2844889 (500)\ttotal: 13s\tremaining: 13s\n",
      "600:\tlearn: 0.2533698\ttest: 0.2834908\tbest: 0.2834264 (576)\ttotal: 15.9s\tremaining: 10.5s\n",
      "700:\tlearn: 0.2481724\ttest: 0.2834829\tbest: 0.2832914 (674)\ttotal: 18.5s\tremaining: 7.91s\n",
      "800:\tlearn: 0.2437009\ttest: 0.2830142\tbest: 0.2830142 (800)\ttotal: 21.1s\tremaining: 5.25s\n",
      "900:\tlearn: 0.2393162\ttest: 0.2833470\tbest: 0.2828809 (811)\ttotal: 23.7s\tremaining: 2.6s\n",
      "999:\tlearn: 0.2350456\ttest: 0.2831425\tbest: 0.2828809 (811)\ttotal: 26.3s\tremaining: 0us\n",
      "\n",
      "bestTest = 0.2828808974\n",
      "bestIteration = 811\n",
      "\n",
      "Shrink model to first 812 iterations.\n",
      "Model fitted in 26.66 seconds\n"
     ]
    }
   ],
   "source": [
    "clf=catboost.CatBoostClassifier(learning_rate=0.03,random_seed=42,l2_leaf_reg=0.5,bootstrap_type='Bernoulli',verbose=100)\n",
    "start=time.time()\n",
    "clf.fit(X_train,y_train,cat_features=[6,7,8,9,10,11,12,13],eval_set=(X_val,y_val))\n",
    "end=time.time()\n",
    "training_time=end-start\n",
    "print(f'Model fitted in {round(training_time,2)} seconds')"
   ]
  },
  {
   "cell_type": "code",
   "execution_count": 51,
   "id": "6a32f35b",
   "metadata": {
    "execution": {
     "iopub.execute_input": "2024-03-09T07:59:40.344718Z",
     "iopub.status.busy": "2024-03-09T07:59:40.343802Z",
     "iopub.status.idle": "2024-03-09T07:59:40.410480Z",
     "shell.execute_reply": "2024-03-09T07:59:40.409412Z"
    },
    "id": "1I-oYpR81xjL",
    "outputId": "7105235a-0671-48bf-d47b-caa31cee1eea",
    "papermill": {
     "duration": 0.113131,
     "end_time": "2024-03-09T07:59:40.412581",
     "exception": false,
     "start_time": "2024-03-09T07:59:40.299450",
     "status": "completed"
    },
    "tags": []
   },
   "outputs": [
    {
     "name": "stdout",
     "output_type": "stream",
     "text": [
      "Accuracy = 87.9 %\n",
      "Precision = 78.9 %\n",
      "Recall = 68.1%\n",
      "F1 score = 73.1%\n"
     ]
    }
   ],
   "source": [
    "y_pred=clf.predict(X_test)\n",
    "evaluate_model(y_test,y_pred)"
   ]
  },
  {
   "cell_type": "markdown",
   "id": "28b46f80",
   "metadata": {
    "id": "m1gA4iX74GNo",
    "papermill": {
     "duration": 0.044058,
     "end_time": "2024-03-09T07:59:40.503761",
     "exception": false,
     "start_time": "2024-03-09T07:59:40.459703",
     "status": "completed"
    },
    "tags": []
   },
   "source": [
    "Poisson"
   ]
  },
  {
   "cell_type": "markdown",
   "id": "b3fc4cbe",
   "metadata": {
    "id": "5nmsP1huNNcq",
    "papermill": {
     "duration": 0.042829,
     "end_time": "2024-03-09T07:59:40.590296",
     "exception": false,
     "start_time": "2024-03-09T07:59:40.547467",
     "status": "completed"
    },
    "tags": []
   },
   "source": [
    "<font color='red'>**Warning**</font> These two cells won't run without changing runtime to `GPU`\n"
   ]
  },
  {
   "cell_type": "code",
   "execution_count": 52,
   "id": "87a53048",
   "metadata": {
    "execution": {
     "iopub.execute_input": "2024-03-09T07:59:40.679130Z",
     "iopub.status.busy": "2024-03-09T07:59:40.678499Z",
     "iopub.status.idle": "2024-03-09T08:00:28.347641Z",
     "shell.execute_reply": "2024-03-09T08:00:28.346582Z"
    },
    "id": "1iOraYt14GNo",
    "outputId": "86582ced-1ce8-451a-e5f7-d1c015fcefe7",
    "papermill": {
     "duration": 47.716649,
     "end_time": "2024-03-09T08:00:28.350102",
     "exception": false,
     "start_time": "2024-03-09T07:59:40.633453",
     "status": "completed"
    },
    "tags": []
   },
   "outputs": [
    {
     "name": "stdout",
     "output_type": "stream",
     "text": [
      "0:\tlearn: 0.6586441\ttest: 0.6589261\tbest: 0.6589261 (0)\ttotal: 174ms\tremaining: 2m 54s\n",
      "100:\tlearn: 0.2970747\ttest: 0.3011471\tbest: 0.3011471 (100)\ttotal: 4.87s\tremaining: 43.4s\n",
      "200:\tlearn: 0.2835160\ttest: 0.2913983\tbest: 0.2913983 (200)\ttotal: 9.56s\tremaining: 38s\n",
      "300:\tlearn: 0.2776661\ttest: 0.2881637\tbest: 0.2881637 (300)\ttotal: 14.2s\tremaining: 32.9s\n",
      "400:\tlearn: 0.2717731\ttest: 0.2847356\tbest: 0.2847348 (396)\ttotal: 19s\tremaining: 28.3s\n",
      "500:\tlearn: 0.2665052\ttest: 0.2820009\tbest: 0.2820009 (500)\ttotal: 23.5s\tremaining: 23.4s\n",
      "600:\tlearn: 0.2637146\ttest: 0.2810769\tbest: 0.2810769 (600)\ttotal: 28s\tremaining: 18.6s\n",
      "700:\tlearn: 0.2616333\ttest: 0.2804653\tbest: 0.2804653 (700)\ttotal: 32.6s\tremaining: 13.9s\n",
      "800:\tlearn: 0.2595100\ttest: 0.2797864\tbest: 0.2797847 (797)\ttotal: 37.2s\tremaining: 9.25s\n",
      "900:\tlearn: 0.2573568\ttest: 0.2794165\tbest: 0.2794165 (900)\ttotal: 42s\tremaining: 4.61s\n",
      "999:\tlearn: 0.2555900\ttest: 0.2790321\tbest: 0.2790152 (983)\ttotal: 46.6s\tremaining: 0us\n",
      "bestTest = 0.2790151527\n",
      "bestIteration = 983\n",
      "Shrink model to first 984 iterations.\n",
      "Model fitted in 47.66 seconds\n"
     ]
    }
   ],
   "source": [
    "clf=catboost.CatBoostClassifier(learning_rate=0.03,task_type='GPU',random_seed=42,l2_leaf_reg=0.5,bootstrap_type='Poisson',verbose=100)\n",
    "start=time.time()\n",
    "clf.fit(X_train,y_train,cat_features=[6,7,8,9,10,11,12,13],eval_set=(X_val,y_val))\n",
    "end=time.time()\n",
    "training_time=end-start\n",
    "print(f'Model fitted in {round(training_time,2)} seconds')"
   ]
  },
  {
   "cell_type": "code",
   "execution_count": 53,
   "id": "6e3a28ec",
   "metadata": {
    "execution": {
     "iopub.execute_input": "2024-03-09T08:00:28.474321Z",
     "iopub.status.busy": "2024-03-09T08:00:28.473900Z",
     "iopub.status.idle": "2024-03-09T08:00:28.610844Z",
     "shell.execute_reply": "2024-03-09T08:00:28.609803Z"
    },
    "id": "374fw4QaNLck",
    "outputId": "01b4b50a-dae4-4fa8-c3f4-c7472600882f",
    "papermill": {
     "duration": 0.201755,
     "end_time": "2024-03-09T08:00:28.613139",
     "exception": false,
     "start_time": "2024-03-09T08:00:28.411384",
     "status": "completed"
    },
    "tags": []
   },
   "outputs": [
    {
     "name": "stdout",
     "output_type": "stream",
     "text": [
      "Accuracy = 88.0 %\n",
      "Precision = 78.9 %\n",
      "Recall = 68.6%\n",
      "F1 score = 73.4%\n"
     ]
    }
   ],
   "source": [
    "y_pred=clf.predict(X_test)\n",
    "evaluate_model(y_test,y_pred)"
   ]
  },
  {
   "cell_type": "markdown",
   "id": "30254b41",
   "metadata": {
    "id": "E4n-_Nbi2iUC",
    "papermill": {
     "duration": 0.061232,
     "end_time": "2024-03-09T08:00:28.738025",
     "exception": false,
     "start_time": "2024-03-09T08:00:28.676793",
     "status": "completed"
    },
    "tags": []
   },
   "source": [
    "No sampling"
   ]
  },
  {
   "cell_type": "code",
   "execution_count": 54,
   "id": "63d94091",
   "metadata": {
    "execution": {
     "iopub.execute_input": "2024-03-09T08:00:28.861277Z",
     "iopub.status.busy": "2024-03-09T08:00:28.860363Z",
     "iopub.status.idle": "2024-03-09T08:00:57.046266Z",
     "shell.execute_reply": "2024-03-09T08:00:57.045243Z"
    },
    "id": "xdhutCFE2nBd",
    "outputId": "8208ce40-5168-45f4-83c1-5cac4e3fe103",
    "papermill": {
     "duration": 28.249619,
     "end_time": "2024-03-09T08:00:57.048623",
     "exception": false,
     "start_time": "2024-03-09T08:00:28.799004",
     "status": "completed"
    },
    "tags": []
   },
   "outputs": [
    {
     "name": "stdout",
     "output_type": "stream",
     "text": [
      "0:\tlearn: 0.6620492\ttest: 0.6623045\tbest: 0.6623045 (0)\ttotal: 58.5ms\tremaining: 58.5s\n",
      "100:\tlearn: 0.2990343\ttest: 0.3036509\tbest: 0.3036509 (100)\ttotal: 3.28s\tremaining: 29.2s\n",
      "200:\tlearn: 0.2830532\ttest: 0.2937504\tbest: 0.2937504 (200)\ttotal: 5.93s\tremaining: 23.6s\n",
      "300:\tlearn: 0.2738061\ttest: 0.2895126\tbest: 0.2895126 (300)\ttotal: 8.55s\tremaining: 19.9s\n",
      "400:\tlearn: 0.2641470\ttest: 0.2846327\tbest: 0.2846327 (400)\ttotal: 11.3s\tremaining: 16.8s\n",
      "500:\tlearn: 0.2574697\ttest: 0.2819358\tbest: 0.2819358 (500)\ttotal: 14s\tremaining: 13.9s\n",
      "600:\tlearn: 0.2526584\ttest: 0.2816632\tbest: 0.2816566 (598)\ttotal: 16.8s\tremaining: 11.1s\n",
      "700:\tlearn: 0.2475642\ttest: 0.2807430\tbest: 0.2807037 (691)\ttotal: 19.5s\tremaining: 8.33s\n",
      "800:\tlearn: 0.2432037\ttest: 0.2807900\tbest: 0.2805409 (737)\ttotal: 22.3s\tremaining: 5.54s\n",
      "900:\tlearn: 0.2392862\ttest: 0.2805608\tbest: 0.2805409 (737)\ttotal: 25.1s\tremaining: 2.75s\n",
      "999:\tlearn: 0.2355294\ttest: 0.2805596\tbest: 0.2804093 (934)\ttotal: 27.8s\tremaining: 0us\n",
      "\n",
      "bestTest = 0.2804092764\n",
      "bestIteration = 934\n",
      "\n",
      "Shrink model to first 935 iterations.\n",
      "Model fitted in 28.18 seconds\n"
     ]
    }
   ],
   "source": [
    "clf=catboost.CatBoostClassifier(learning_rate=0.03,l2_leaf_reg=0.5,random_seed=42,bootstrap_type='No',verbose=100)\n",
    "start=time.time()\n",
    "clf.fit(X_train,y_train,cat_features=[6,7,8,9,10,11,12,13],eval_set=(X_val,y_val))\n",
    "end=time.time()\n",
    "training_time=end-start\n",
    "print(f'Model fitted in {round(training_time,2)} seconds')"
   ]
  },
  {
   "cell_type": "code",
   "execution_count": 55,
   "id": "534f2452",
   "metadata": {
    "execution": {
     "iopub.execute_input": "2024-03-09T08:00:57.141130Z",
     "iopub.status.busy": "2024-03-09T08:00:57.140840Z",
     "iopub.status.idle": "2024-03-09T08:00:57.208885Z",
     "shell.execute_reply": "2024-03-09T08:00:57.207791Z"
    },
    "id": "eYaa3tAt2nBy",
    "outputId": "e9fc4b70-0653-4beb-859d-6ad39cf6dbda",
    "papermill": {
     "duration": 0.116326,
     "end_time": "2024-03-09T08:00:57.210977",
     "exception": false,
     "start_time": "2024-03-09T08:00:57.094651",
     "status": "completed"
    },
    "tags": []
   },
   "outputs": [
    {
     "name": "stdout",
     "output_type": "stream",
     "text": [
      "Accuracy = 87.9 %\n",
      "Precision = 78.5 %\n",
      "Recall = 68.7%\n",
      "F1 score = 73.3%\n"
     ]
    }
   ],
   "source": [
    "y_pred=clf.predict(X_test)\n",
    "evaluate_model(y_test,y_pred)"
   ]
  },
  {
   "cell_type": "markdown",
   "id": "0d1969f0",
   "metadata": {
    "id": "GhMOxYwVPy8n",
    "papermill": {
     "duration": 0.045263,
     "end_time": "2024-03-09T08:00:57.302275",
     "exception": false,
     "start_time": "2024-03-09T08:00:57.257012",
     "status": "completed"
    },
    "tags": []
   },
   "source": [
    "we will proceed with learning rate=0.03 as it gives less training time and allowe for comparison for different parameters and let the bootstrap type be chosen by the library based on different other parameters such as  objective, task_type, bagging_temperature and sampling_unit"
   ]
  },
  {
   "cell_type": "markdown",
   "id": "7e042dca",
   "metadata": {
    "id": "aHc26toG3fhd",
    "papermill": {
     "duration": 0.046589,
     "end_time": "2024-03-09T08:00:57.393998",
     "exception": false,
     "start_time": "2024-03-09T08:00:57.347409",
     "status": "completed"
    },
    "tags": []
   },
   "source": [
    "[Table of Contents](#0)"
   ]
  },
  {
   "cell_type": "markdown",
   "id": "18b3ce22",
   "metadata": {
    "id": "DuDfI2ilKQw8",
    "papermill": {
     "duration": 0.04624,
     "end_time": "2024-03-09T08:00:57.487123",
     "exception": false,
     "start_time": "2024-03-09T08:00:57.440883",
     "status": "completed"
    },
    "tags": []
   },
   "source": [
    "<a name=\"11\"></a>\n",
    "### **5) Boosting type:**\n",
    "* Ordered : Usually provides better quality on small datasets, but it may be slower than the Plain scheme\n",
    "* Plain : The classic gradient boosting scheme"
   ]
  },
  {
   "cell_type": "markdown",
   "id": "1cc47e05",
   "metadata": {
    "id": "dAYjDhUmLzRp",
    "papermill": {
     "duration": 0.045582,
     "end_time": "2024-03-09T08:00:57.578104",
     "exception": false,
     "start_time": "2024-03-09T08:00:57.532522",
     "status": "completed"
    },
    "tags": []
   },
   "source": [
    "Ordered"
   ]
  },
  {
   "cell_type": "code",
   "execution_count": 56,
   "id": "750ec2ff",
   "metadata": {
    "execution": {
     "iopub.execute_input": "2024-03-09T08:00:57.669209Z",
     "iopub.status.busy": "2024-03-09T08:00:57.668860Z",
     "iopub.status.idle": "2024-03-09T08:01:47.172277Z",
     "shell.execute_reply": "2024-03-09T08:01:47.171214Z"
    },
    "id": "hcRVq8C6LR9h",
    "outputId": "6458d24b-cef0-4903-e744-4342d1f38bc2",
    "papermill": {
     "duration": 49.551649,
     "end_time": "2024-03-09T08:01:47.174455",
     "exception": false,
     "start_time": "2024-03-09T08:00:57.622806",
     "status": "completed"
    },
    "tags": []
   },
   "outputs": [
    {
     "name": "stdout",
     "output_type": "stream",
     "text": [
      "0:\tlearn: 0.6644005\ttest: 0.6647124\tbest: 0.6647124 (0)\ttotal: 39.9ms\tremaining: 39.9s\n",
      "100:\tlearn: 0.3026575\ttest: 0.3066320\tbest: 0.3066320 (100)\ttotal: 5.32s\tremaining: 47.3s\n",
      "200:\tlearn: 0.2879803\ttest: 0.2952198\tbest: 0.2952198 (200)\ttotal: 9.79s\tremaining: 38.9s\n",
      "300:\tlearn: 0.2793832\ttest: 0.2895103\tbest: 0.2895103 (300)\ttotal: 14.2s\tremaining: 32.9s\n",
      "400:\tlearn: 0.2712666\ttest: 0.2853230\tbest: 0.2853230 (400)\ttotal: 18.9s\tremaining: 28.2s\n",
      "500:\tlearn: 0.2647037\ttest: 0.2825007\tbest: 0.2824947 (499)\ttotal: 24s\tremaining: 23.9s\n",
      "600:\tlearn: 0.2605388\ttest: 0.2808099\tbest: 0.2808011 (597)\ttotal: 28.8s\tremaining: 19.1s\n",
      "700:\tlearn: 0.2565735\ttest: 0.2791247\tbest: 0.2791247 (700)\ttotal: 33.9s\tremaining: 14.5s\n",
      "800:\tlearn: 0.2533100\ttest: 0.2787956\tbest: 0.2786192 (758)\ttotal: 39.4s\tremaining: 9.79s\n",
      "900:\tlearn: 0.2507434\ttest: 0.2785507\tbest: 0.2784410 (889)\ttotal: 44.3s\tremaining: 4.87s\n",
      "999:\tlearn: 0.2483175\ttest: 0.2784267\tbest: 0.2783479 (975)\ttotal: 49.1s\tremaining: 0us\n",
      "\n",
      "bestTest = 0.2783479404\n",
      "bestIteration = 975\n",
      "\n",
      "Shrink model to first 976 iterations.\n",
      "Model fitted in 49.5 seconds\n"
     ]
    }
   ],
   "source": [
    "clf=catboost.CatBoostClassifier(learning_rate=0.03,l2_leaf_reg=0.5,random_seed=42,boosting_type='Ordered',verbose=100)\n",
    "start=time.time()\n",
    "clf.fit(X_train,y_train,cat_features=[6,7,8,9,10,11,12,13],eval_set=(X_val,y_val))\n",
    "end=time.time()\n",
    "training_time=end-start\n",
    "print(f'Model fitted in {round(training_time,2)} seconds')"
   ]
  },
  {
   "cell_type": "code",
   "execution_count": 57,
   "id": "0e718c5c",
   "metadata": {
    "execution": {
     "iopub.execute_input": "2024-03-09T08:01:47.269137Z",
     "iopub.status.busy": "2024-03-09T08:01:47.268831Z",
     "iopub.status.idle": "2024-03-09T08:01:47.338740Z",
     "shell.execute_reply": "2024-03-09T08:01:47.337727Z"
    },
    "id": "dwAvZaS_LR9i",
    "outputId": "1d858525-08cb-4e65-f03f-f25444ea49cc",
    "papermill": {
     "duration": 0.119395,
     "end_time": "2024-03-09T08:01:47.340630",
     "exception": false,
     "start_time": "2024-03-09T08:01:47.221235",
     "status": "completed"
    },
    "tags": []
   },
   "outputs": [
    {
     "name": "stdout",
     "output_type": "stream",
     "text": [
      "Accuracy = 88.0 %\n",
      "Precision = 79.2 %\n",
      "Recall = 68.0%\n",
      "F1 score = 73.2%\n"
     ]
    }
   ],
   "source": [
    "y_pred=clf.predict(X_test)\n",
    "evaluate_model(y_test,y_pred)"
   ]
  },
  {
   "cell_type": "markdown",
   "id": "f17e3e31",
   "metadata": {
    "id": "1qb-y-JCL1SZ",
    "papermill": {
     "duration": 0.046335,
     "end_time": "2024-03-09T08:01:47.437158",
     "exception": false,
     "start_time": "2024-03-09T08:01:47.390823",
     "status": "completed"
    },
    "tags": []
   },
   "source": [
    "Plain"
   ]
  },
  {
   "cell_type": "code",
   "execution_count": 58,
   "id": "b300987f",
   "metadata": {
    "execution": {
     "iopub.execute_input": "2024-03-09T08:01:47.532463Z",
     "iopub.status.busy": "2024-03-09T08:01:47.531368Z",
     "iopub.status.idle": "2024-03-09T08:02:15.611659Z",
     "shell.execute_reply": "2024-03-09T08:02:15.610670Z"
    },
    "id": "1xmtX0VXKN4s",
    "outputId": "98a0ab8c-f80c-42fa-8860-c2be7fbf4ff5",
    "papermill": {
     "duration": 28.129502,
     "end_time": "2024-03-09T08:02:15.613916",
     "exception": false,
     "start_time": "2024-03-09T08:01:47.484414",
     "status": "completed"
    },
    "tags": []
   },
   "outputs": [
    {
     "name": "stdout",
     "output_type": "stream",
     "text": [
      "0:\tlearn: 0.6610685\ttest: 0.6611818\tbest: 0.6611818 (0)\ttotal: 30.4ms\tremaining: 30.4s\n",
      "100:\tlearn: 0.3000568\ttest: 0.3057228\tbest: 0.3057228 (100)\ttotal: 2.76s\tremaining: 24.6s\n",
      "200:\tlearn: 0.2833762\ttest: 0.2949945\tbest: 0.2949945 (200)\ttotal: 5.49s\tremaining: 21.8s\n",
      "300:\tlearn: 0.2738627\ttest: 0.2898677\tbest: 0.2898622 (299)\ttotal: 8.07s\tremaining: 18.7s\n",
      "400:\tlearn: 0.2647084\ttest: 0.2850429\tbest: 0.2850119 (399)\ttotal: 10.7s\tremaining: 16s\n",
      "500:\tlearn: 0.2579450\ttest: 0.2825031\tbest: 0.2824672 (498)\ttotal: 13.5s\tremaining: 13.4s\n",
      "600:\tlearn: 0.2527986\ttest: 0.2821027\tbest: 0.2821027 (600)\ttotal: 16.2s\tremaining: 10.8s\n",
      "700:\tlearn: 0.2482473\ttest: 0.2819458\tbest: 0.2818844 (684)\ttotal: 19.4s\tremaining: 8.28s\n",
      "800:\tlearn: 0.2441327\ttest: 0.2816757\tbest: 0.2816521 (796)\ttotal: 22.2s\tremaining: 5.52s\n",
      "900:\tlearn: 0.2400126\ttest: 0.2815939\tbest: 0.2814782 (830)\ttotal: 25s\tremaining: 2.74s\n",
      "999:\tlearn: 0.2365537\ttest: 0.2813364\tbest: 0.2813354 (998)\ttotal: 27.7s\tremaining: 0us\n",
      "\n",
      "bestTest = 0.2813354441\n",
      "bestIteration = 998\n",
      "\n",
      "Shrink model to first 999 iterations.\n",
      "Model fitted in 28.07 seconds\n"
     ]
    }
   ],
   "source": [
    "clf=catboost.CatBoostClassifier(learning_rate=0.03,l2_leaf_reg=0.5,random_seed=42,boosting_type='Plain',verbose=100)\n",
    "start=time.time()\n",
    "clf.fit(X_train,y_train,cat_features=[6,7,8,9,10,11,12,13],eval_set=(X_val,y_val))\n",
    "end=time.time()\n",
    "training_time=end-start\n",
    "print(f'Model fitted in {round(training_time,2)} seconds')"
   ]
  },
  {
   "cell_type": "code",
   "execution_count": 59,
   "id": "282d2024",
   "metadata": {
    "execution": {
     "iopub.execute_input": "2024-03-09T08:02:15.718487Z",
     "iopub.status.busy": "2024-03-09T08:02:15.718155Z",
     "iopub.status.idle": "2024-03-09T08:02:15.788926Z",
     "shell.execute_reply": "2024-03-09T08:02:15.787974Z"
    },
    "id": "fOUvXfQnKN7v",
    "outputId": "8dfaa303-0f9f-4338-d6e4-6cfbc11d231a",
    "papermill": {
     "duration": 0.123228,
     "end_time": "2024-03-09T08:02:15.790837",
     "exception": false,
     "start_time": "2024-03-09T08:02:15.667609",
     "status": "completed"
    },
    "tags": []
   },
   "outputs": [
    {
     "name": "stdout",
     "output_type": "stream",
     "text": [
      "Accuracy = 88.0 %\n",
      "Precision = 78.7 %\n",
      "Recall = 68.9%\n",
      "F1 score = 73.5%\n"
     ]
    }
   ],
   "source": [
    "y_pred=clf.predict(X_test)\n",
    "evaluate_model(y_test,y_pred)"
   ]
  },
  {
   "cell_type": "markdown",
   "id": "5125ede1",
   "metadata": {
    "id": "rn--vdOFNIfz",
    "papermill": {
     "duration": 0.046787,
     "end_time": "2024-03-09T08:02:15.927281",
     "exception": false,
     "start_time": "2024-03-09T08:02:15.880494",
     "status": "completed"
    },
    "tags": []
   },
   "source": [
    "Plain is much faster in training than ordered\n",
    "we will proceed with plain boosting"
   ]
  },
  {
   "cell_type": "markdown",
   "id": "1aa0cd01",
   "metadata": {
    "id": "rUDxwCc73hlb",
    "papermill": {
     "duration": 0.047097,
     "end_time": "2024-03-09T08:02:16.021170",
     "exception": false,
     "start_time": "2024-03-09T08:02:15.974073",
     "status": "completed"
    },
    "tags": []
   },
   "source": [
    "[Table of Contents](#0)"
   ]
  },
  {
   "cell_type": "markdown",
   "id": "f4aa0c34",
   "metadata": {
    "id": "ODF09mgLNOkF",
    "papermill": {
     "duration": 0.047308,
     "end_time": "2024-03-09T08:02:16.114997",
     "exception": false,
     "start_time": "2024-03-09T08:02:16.067689",
     "status": "completed"
    },
    "tags": []
   },
   "source": [
    "<a name=\"12\"></a>\n",
    "### **6) max_leaves:** The maximum number of leafs in the resulting tree. Can be used only with the `Lossguide` growing policy\n",
    "`It is not recommended to use values greater than 64, since it can significantly slow down the training process`"
   ]
  },
  {
   "cell_type": "markdown",
   "id": "17d90da8",
   "metadata": {
    "id": "keapEq-3OpY0",
    "papermill": {
     "duration": 0.047019,
     "end_time": "2024-03-09T08:02:16.209655",
     "exception": false,
     "start_time": "2024-03-09T08:02:16.162636",
     "status": "completed"
    },
    "tags": []
   },
   "source": [
    "max_leaves=31"
   ]
  },
  {
   "cell_type": "code",
   "execution_count": 60,
   "id": "ef2a9526",
   "metadata": {
    "execution": {
     "iopub.execute_input": "2024-03-09T08:02:16.305256Z",
     "iopub.status.busy": "2024-03-09T08:02:16.304402Z",
     "iopub.status.idle": "2024-03-09T08:02:38.770750Z",
     "shell.execute_reply": "2024-03-09T08:02:38.769766Z"
    },
    "id": "iSUmd7ttN-lA",
    "outputId": "60ae15f1-c654-418d-9b73-d50da406f80c",
    "papermill": {
     "duration": 22.516398,
     "end_time": "2024-03-09T08:02:38.772947",
     "exception": false,
     "start_time": "2024-03-09T08:02:16.256549",
     "status": "completed"
    },
    "tags": []
   },
   "outputs": [
    {
     "name": "stdout",
     "output_type": "stream",
     "text": [
      "0:\tlearn: 0.6642644\ttest: 0.6645452\tbest: 0.6645452 (0)\ttotal: 26.1ms\tremaining: 26.1s\n",
      "100:\tlearn: 0.2957062\ttest: 0.3025316\tbest: 0.3025316 (100)\ttotal: 2.15s\tremaining: 19.2s\n",
      "200:\tlearn: 0.2758330\ttest: 0.2891300\tbest: 0.2891300 (200)\ttotal: 4.34s\tremaining: 17.2s\n",
      "300:\tlearn: 0.2668057\ttest: 0.2849635\tbest: 0.2849635 (300)\ttotal: 6.52s\tremaining: 15.1s\n",
      "400:\tlearn: 0.2570405\ttest: 0.2812742\tbest: 0.2812742 (400)\ttotal: 8.69s\tremaining: 13s\n",
      "500:\tlearn: 0.2473518\ttest: 0.2800287\tbest: 0.2798491 (457)\ttotal: 10.9s\tremaining: 10.9s\n",
      "600:\tlearn: 0.2399192\ttest: 0.2797182\tbest: 0.2795666 (592)\ttotal: 13.2s\tremaining: 8.77s\n",
      "700:\tlearn: 0.2333106\ttest: 0.2799538\tbest: 0.2795666 (592)\ttotal: 15.4s\tremaining: 6.58s\n",
      "800:\tlearn: 0.2269905\ttest: 0.2800177\tbest: 0.2795666 (592)\ttotal: 17.6s\tremaining: 4.38s\n",
      "900:\tlearn: 0.2211398\ttest: 0.2805204\tbest: 0.2795666 (592)\ttotal: 19.7s\tremaining: 2.17s\n",
      "999:\tlearn: 0.2159195\ttest: 0.2812017\tbest: 0.2795666 (592)\ttotal: 22.1s\tremaining: 0us\n",
      "\n",
      "bestTest = 0.2795666245\n",
      "bestIteration = 592\n",
      "\n",
      "Shrink model to first 593 iterations.\n",
      "Model fitted in 22.46 seconds\n"
     ]
    }
   ],
   "source": [
    "# Default max leaves=31\n",
    "clf=catboost.CatBoostClassifier(learning_rate=0.03,grow_policy='Lossguide',l2_leaf_reg=0.5,random_seed=42,boosting_type='Plain',verbose=100)\n",
    "start=time.time()\n",
    "clf.fit(X_train,y_train,cat_features=[6,7,8,9,10,11,12,13],eval_set=(X_val,y_val))\n",
    "end=time.time()\n",
    "training_time=end-start\n",
    "print(f'Model fitted in {round(training_time,2)} seconds')"
   ]
  },
  {
   "cell_type": "code",
   "execution_count": 61,
   "id": "43232735",
   "metadata": {
    "execution": {
     "iopub.execute_input": "2024-03-09T08:02:38.870984Z",
     "iopub.status.busy": "2024-03-09T08:02:38.870666Z",
     "iopub.status.idle": "2024-03-09T08:02:38.963531Z",
     "shell.execute_reply": "2024-03-09T08:02:38.962398Z"
    },
    "id": "JGCtRzYCN-lB",
    "outputId": "e7d20a83-5654-4ce4-db6d-7eccc5c96f92",
    "papermill": {
     "duration": 0.144249,
     "end_time": "2024-03-09T08:02:38.965889",
     "exception": false,
     "start_time": "2024-03-09T08:02:38.821640",
     "status": "completed"
    },
    "tags": []
   },
   "outputs": [
    {
     "name": "stdout",
     "output_type": "stream",
     "text": [
      "Accuracy = 87.8 %\n",
      "Precision = 78.0 %\n",
      "Recall = 68.7%\n",
      "F1 score = 73.1%\n"
     ]
    }
   ],
   "source": [
    "y_pred=clf.predict(X_test)\n",
    "evaluate_model(y_test,y_pred)"
   ]
  },
  {
   "cell_type": "markdown",
   "id": "5c147ba0",
   "metadata": {
    "id": "Q96NinDlOtnv",
    "papermill": {
     "duration": 0.049245,
     "end_time": "2024-03-09T08:02:39.069582",
     "exception": false,
     "start_time": "2024-03-09T08:02:39.020337",
     "status": "completed"
    },
    "tags": []
   },
   "source": [
    "max_leaves=64"
   ]
  },
  {
   "cell_type": "code",
   "execution_count": 62,
   "id": "d8d06ded",
   "metadata": {
    "execution": {
     "iopub.execute_input": "2024-03-09T08:02:39.167895Z",
     "iopub.status.busy": "2024-03-09T08:02:39.167226Z",
     "iopub.status.idle": "2024-03-09T08:03:05.185670Z",
     "shell.execute_reply": "2024-03-09T08:03:05.184287Z"
    },
    "id": "UiolnSjsKOAA",
    "outputId": "ff36a60b-83af-424c-d434-917767f1ca50",
    "papermill": {
     "duration": 26.070061,
     "end_time": "2024-03-09T08:03:05.188105",
     "exception": false,
     "start_time": "2024-03-09T08:02:39.118044",
     "status": "completed"
    },
    "tags": []
   },
   "outputs": [
    {
     "name": "stdout",
     "output_type": "stream",
     "text": [
      "0:\tlearn: 0.6628212\ttest: 0.6632060\tbest: 0.6632060 (0)\ttotal: 29.2ms\tremaining: 29.1s\n",
      "100:\tlearn: 0.2904373\ttest: 0.3011205\tbest: 0.3011205 (100)\ttotal: 2.58s\tremaining: 23s\n",
      "200:\tlearn: 0.2711805\ttest: 0.2892533\tbest: 0.2892533 (200)\ttotal: 5.03s\tremaining: 20s\n",
      "300:\tlearn: 0.2612391\ttest: 0.2845535\tbest: 0.2845535 (300)\ttotal: 7.49s\tremaining: 17.4s\n",
      "400:\tlearn: 0.2491946\ttest: 0.2813289\tbest: 0.2813289 (400)\ttotal: 10.2s\tremaining: 15.3s\n",
      "500:\tlearn: 0.2395089\ttest: 0.2811767\tbest: 0.2809971 (459)\ttotal: 12.8s\tremaining: 12.8s\n",
      "600:\tlearn: 0.2312081\ttest: 0.2810906\tbest: 0.2809922 (595)\ttotal: 15.2s\tremaining: 10.1s\n",
      "700:\tlearn: 0.2225224\ttest: 0.2817069\tbest: 0.2808388 (623)\ttotal: 17.7s\tremaining: 7.56s\n",
      "800:\tlearn: 0.2147212\ttest: 0.2827520\tbest: 0.2808388 (623)\ttotal: 20.3s\tremaining: 5.04s\n",
      "900:\tlearn: 0.2092678\ttest: 0.2837313\tbest: 0.2808388 (623)\ttotal: 22.9s\tremaining: 2.51s\n",
      "999:\tlearn: 0.2024351\ttest: 0.2846939\tbest: 0.2808388 (623)\ttotal: 25.6s\tremaining: 0us\n",
      "\n",
      "bestTest = 0.2808388\n",
      "bestIteration = 623\n",
      "\n",
      "Shrink model to first 624 iterations.\n",
      "Model fitted in 26.01 seconds\n"
     ]
    }
   ],
   "source": [
    "clf=catboost.CatBoostClassifier(learning_rate=0.03,grow_policy='Lossguide',max_leaves=64,l2_leaf_reg=0.5,random_seed=42,boosting_type='Plain',verbose=100)\n",
    "start=time.time()\n",
    "clf.fit(X_train,y_train,cat_features=[6,7,8,9,10,11,12,13],eval_set=(X_val,y_val))\n",
    "end=time.time()\n",
    "training_time=end-start\n",
    "print(f'Model fitted in {round(training_time,2)} seconds')"
   ]
  },
  {
   "cell_type": "code",
   "execution_count": 63,
   "id": "c628c71a",
   "metadata": {
    "execution": {
     "iopub.execute_input": "2024-03-09T08:03:05.295473Z",
     "iopub.status.busy": "2024-03-09T08:03:05.294506Z",
     "iopub.status.idle": "2024-03-09T08:03:05.394163Z",
     "shell.execute_reply": "2024-03-09T08:03:05.393011Z"
    },
    "id": "Uw8SDbj2KOCI",
    "outputId": "188d74eb-5d87-4bc3-8138-9aa6823be8a9",
    "papermill": {
     "duration": 0.154902,
     "end_time": "2024-03-09T08:03:05.396838",
     "exception": false,
     "start_time": "2024-03-09T08:03:05.241936",
     "status": "completed"
    },
    "tags": []
   },
   "outputs": [
    {
     "name": "stdout",
     "output_type": "stream",
     "text": [
      "Accuracy = 87.8 %\n",
      "Precision = 78.3 %\n",
      "Recall = 68.5%\n",
      "F1 score = 73.0%\n"
     ]
    }
   ],
   "source": [
    "y_pred=clf.predict(X_test)\n",
    "evaluate_model(y_test,y_pred)"
   ]
  },
  {
   "cell_type": "markdown",
   "id": "cad3003d",
   "metadata": {
    "id": "UTBGjLqLPNpD",
    "papermill": {
     "duration": 0.054796,
     "end_time": "2024-03-09T08:03:05.514680",
     "exception": false,
     "start_time": "2024-03-09T08:03:05.459884",
     "status": "completed"
    },
    "tags": []
   },
   "source": [
    "max_leaves=86"
   ]
  },
  {
   "cell_type": "code",
   "execution_count": 64,
   "id": "ebefd3d9",
   "metadata": {
    "execution": {
     "iopub.execute_input": "2024-03-09T08:03:05.619325Z",
     "iopub.status.busy": "2024-03-09T08:03:05.618430Z",
     "iopub.status.idle": "2024-03-09T08:03:33.016355Z",
     "shell.execute_reply": "2024-03-09T08:03:33.015362Z"
    },
    "id": "_voyalqXPNpE",
    "outputId": "a2b1f88f-d45c-4b89-c7ed-605d5cac2498",
    "papermill": {
     "duration": 27.453562,
     "end_time": "2024-03-09T08:03:33.019017",
     "exception": false,
     "start_time": "2024-03-09T08:03:05.565455",
     "status": "completed"
    },
    "tags": []
   },
   "outputs": [
    {
     "name": "stdout",
     "output_type": "stream",
     "text": [
      "0:\tlearn: 0.6628212\ttest: 0.6632060\tbest: 0.6632060 (0)\ttotal: 29.6ms\tremaining: 29.6s\n",
      "100:\tlearn: 0.2904373\ttest: 0.3011205\tbest: 0.3011205 (100)\ttotal: 2.72s\tremaining: 24.2s\n",
      "200:\tlearn: 0.2711805\ttest: 0.2892533\tbest: 0.2892533 (200)\ttotal: 5.81s\tremaining: 23.1s\n",
      "300:\tlearn: 0.2612391\ttest: 0.2845535\tbest: 0.2845535 (300)\ttotal: 8.41s\tremaining: 19.5s\n",
      "400:\tlearn: 0.2491946\ttest: 0.2813289\tbest: 0.2813289 (400)\ttotal: 11.1s\tremaining: 16.5s\n",
      "500:\tlearn: 0.2395089\ttest: 0.2811767\tbest: 0.2809971 (459)\ttotal: 13.6s\tremaining: 13.6s\n",
      "600:\tlearn: 0.2312081\ttest: 0.2810906\tbest: 0.2809922 (595)\ttotal: 16.3s\tremaining: 10.8s\n",
      "700:\tlearn: 0.2225224\ttest: 0.2817069\tbest: 0.2808388 (623)\ttotal: 18.9s\tremaining: 8.07s\n",
      "800:\tlearn: 0.2147212\ttest: 0.2827520\tbest: 0.2808388 (623)\ttotal: 21.6s\tremaining: 5.36s\n",
      "900:\tlearn: 0.2092678\ttest: 0.2837313\tbest: 0.2808388 (623)\ttotal: 24.3s\tremaining: 2.67s\n",
      "999:\tlearn: 0.2024351\ttest: 0.2846939\tbest: 0.2808388 (623)\ttotal: 27s\tremaining: 0us\n",
      "\n",
      "bestTest = 0.2808388\n",
      "bestIteration = 623\n",
      "\n",
      "Shrink model to first 624 iterations.\n",
      "Model fitted in 27.39 seconds\n"
     ]
    }
   ],
   "source": [
    "clf=catboost.CatBoostClassifier(learning_rate=0.03,grow_policy='Lossguide',max_leaves=86,l2_leaf_reg=0.5,random_seed=42,boosting_type='Plain',verbose=100)\n",
    "start=time.time()\n",
    "clf.fit(X_train,y_train,cat_features=[6,7,8,9,10,11,12,13],eval_set=(X_val,y_val))\n",
    "end=time.time()\n",
    "training_time=end-start\n",
    "print(f'Model fitted in {round(training_time,2)} seconds')"
   ]
  },
  {
   "cell_type": "code",
   "execution_count": 65,
   "id": "e3873d51",
   "metadata": {
    "execution": {
     "iopub.execute_input": "2024-03-09T08:03:33.135255Z",
     "iopub.status.busy": "2024-03-09T08:03:33.134369Z",
     "iopub.status.idle": "2024-03-09T08:03:33.234036Z",
     "shell.execute_reply": "2024-03-09T08:03:33.232667Z"
    },
    "id": "J1_u9rZCPNpE",
    "outputId": "458a8695-77e5-42b6-f21b-047c8133ab2b",
    "papermill": {
     "duration": 0.160246,
     "end_time": "2024-03-09T08:03:33.236658",
     "exception": false,
     "start_time": "2024-03-09T08:03:33.076412",
     "status": "completed"
    },
    "tags": []
   },
   "outputs": [
    {
     "name": "stdout",
     "output_type": "stream",
     "text": [
      "Accuracy = 87.8 %\n",
      "Precision = 78.3 %\n",
      "Recall = 68.5%\n",
      "F1 score = 73.0%\n"
     ]
    }
   ],
   "source": [
    "y_pred=clf.predict(X_test)\n",
    "evaluate_model(y_test,y_pred)"
   ]
  },
  {
   "cell_type": "markdown",
   "id": "4299556b",
   "metadata": {
    "id": "BRfKY_p23kHd",
    "papermill": {
     "duration": 0.058371,
     "end_time": "2024-03-09T08:03:33.358535",
     "exception": false,
     "start_time": "2024-03-09T08:03:33.300164",
     "status": "completed"
    },
    "tags": []
   },
   "source": [
    "[Table of Contents](#0)"
   ]
  },
  {
   "cell_type": "markdown",
   "id": "95909ca1",
   "metadata": {
    "id": "wYhIQiKaSpow",
    "papermill": {
     "duration": 0.058738,
     "end_time": "2024-03-09T08:03:33.473441",
     "exception": false,
     "start_time": "2024-03-09T08:03:33.414703",
     "status": "completed"
    },
    "tags": []
   },
   "source": [
    "<a name=\"13\"></a>\n",
    "### **7) min_data_in_leaf:**\n",
    "The minimum number of training samples in a leaf. CatBoost does not search for new splits in leaves with samples count less than the specified value.\n",
    "Can be used only with the `Lossguide` and `Depthwise` growing policies.\n",
    "Default is 1"
   ]
  },
  {
   "cell_type": "markdown",
   "id": "4678f625",
   "metadata": {
    "id": "7Y31xhmjTgk7",
    "papermill": {
     "duration": 0.057586,
     "end_time": "2024-03-09T08:03:33.585704",
     "exception": false,
     "start_time": "2024-03-09T08:03:33.528118",
     "status": "completed"
    },
    "tags": []
   },
   "source": [
    "min_data_in_leaf=10"
   ]
  },
  {
   "cell_type": "code",
   "execution_count": 66,
   "id": "437754f6",
   "metadata": {
    "execution": {
     "iopub.execute_input": "2024-03-09T08:03:33.702906Z",
     "iopub.status.busy": "2024-03-09T08:03:33.702491Z",
     "iopub.status.idle": "2024-03-09T08:03:58.131925Z",
     "shell.execute_reply": "2024-03-09T08:03:58.130758Z"
    },
    "id": "VCf3GTfmTGLU",
    "outputId": "1d4ca5e9-3997-4fd2-e27e-efb7b93f6b36",
    "papermill": {
     "duration": 24.491207,
     "end_time": "2024-03-09T08:03:58.134278",
     "exception": false,
     "start_time": "2024-03-09T08:03:33.643071",
     "status": "completed"
    },
    "tags": []
   },
   "outputs": [
    {
     "name": "stdout",
     "output_type": "stream",
     "text": [
      "0:\tlearn: 0.6657995\ttest: 0.6661344\tbest: 0.6661344 (0)\ttotal: 28ms\tremaining: 28s\n",
      "100:\tlearn: 0.2950147\ttest: 0.3028651\tbest: 0.3028651 (100)\ttotal: 2.44s\tremaining: 21.7s\n",
      "200:\tlearn: 0.2751650\ttest: 0.2892169\tbest: 0.2892169 (200)\ttotal: 4.81s\tremaining: 19.1s\n",
      "300:\tlearn: 0.2657880\ttest: 0.2848729\tbest: 0.2848729 (300)\ttotal: 7.34s\tremaining: 17s\n",
      "400:\tlearn: 0.2565651\ttest: 0.2816344\tbest: 0.2816344 (400)\ttotal: 10s\tremaining: 14.9s\n",
      "500:\tlearn: 0.2480669\ttest: 0.2809313\tbest: 0.2805178 (486)\ttotal: 12.3s\tremaining: 12.3s\n",
      "600:\tlearn: 0.2407037\ttest: 0.2808478\tbest: 0.2805178 (486)\ttotal: 14.8s\tremaining: 9.79s\n",
      "700:\tlearn: 0.2344547\ttest: 0.2813783\tbest: 0.2805178 (486)\ttotal: 17.2s\tremaining: 7.32s\n",
      "800:\tlearn: 0.2286862\ttest: 0.2820163\tbest: 0.2805178 (486)\ttotal: 19.5s\tremaining: 4.84s\n",
      "900:\tlearn: 0.2228070\ttest: 0.2819085\tbest: 0.2805178 (486)\ttotal: 21.8s\tremaining: 2.4s\n",
      "999:\tlearn: 0.2170052\ttest: 0.2827175\tbest: 0.2805178 (486)\ttotal: 24.1s\tremaining: 0us\n",
      "\n",
      "bestTest = 0.2805177836\n",
      "bestIteration = 486\n",
      "\n",
      "Shrink model to first 487 iterations.\n",
      "Model fitted in 24.42 seconds\n"
     ]
    }
   ],
   "source": [
    "clf=catboost.CatBoostClassifier(learning_rate=0.03,grow_policy='Lossguide',min_data_in_leaf=10,l2_leaf_reg=0.5,random_seed=42,boosting_type='Plain',verbose=100)\n",
    "start=time.time()\n",
    "clf.fit(X_train,y_train,cat_features=[6,7,8,9,10,11,12,13],eval_set=(X_val,y_val))\n",
    "end=time.time()\n",
    "training_time=end-start\n",
    "print(f'Model fitted in {round(training_time,2)} seconds')"
   ]
  },
  {
   "cell_type": "code",
   "execution_count": 67,
   "id": "06f0752d",
   "metadata": {
    "execution": {
     "iopub.execute_input": "2024-03-09T08:03:58.246864Z",
     "iopub.status.busy": "2024-03-09T08:03:58.246106Z",
     "iopub.status.idle": "2024-03-09T08:03:58.336009Z",
     "shell.execute_reply": "2024-03-09T08:03:58.334780Z"
    },
    "id": "yTikNiPITGLW",
    "outputId": "75ef8e7b-407c-43a2-b842-1dc546f07c55",
    "papermill": {
     "duration": 0.149216,
     "end_time": "2024-03-09T08:03:58.338328",
     "exception": false,
     "start_time": "2024-03-09T08:03:58.189112",
     "status": "completed"
    },
    "tags": []
   },
   "outputs": [
    {
     "name": "stdout",
     "output_type": "stream",
     "text": [
      "Accuracy = 87.8 %\n",
      "Precision = 78.5 %\n",
      "Recall = 68.3%\n",
      "F1 score = 73.0%\n"
     ]
    }
   ],
   "source": [
    "y_pred=clf.predict(X_test)\n",
    "evaluate_model(y_test,y_pred)"
   ]
  },
  {
   "cell_type": "markdown",
   "id": "4f3e883c",
   "metadata": {
    "id": "kuwAl2ZQTtN1",
    "papermill": {
     "duration": 0.05741,
     "end_time": "2024-03-09T08:03:58.457075",
     "exception": false,
     "start_time": "2024-03-09T08:03:58.399665",
     "status": "completed"
    },
    "tags": []
   },
   "source": [
    "min_data_in_leaf=20"
   ]
  },
  {
   "cell_type": "code",
   "execution_count": 68,
   "id": "25440fc7",
   "metadata": {
    "execution": {
     "iopub.execute_input": "2024-03-09T08:03:58.569589Z",
     "iopub.status.busy": "2024-03-09T08:03:58.568564Z",
     "iopub.status.idle": "2024-03-09T08:04:22.751753Z",
     "shell.execute_reply": "2024-03-09T08:04:22.750570Z"
    },
    "id": "t7QCZpGgTtN1",
    "outputId": "555e38ce-884d-4ee9-c4db-a0b41fc5f706",
    "papermill": {
     "duration": 24.240778,
     "end_time": "2024-03-09T08:04:22.753959",
     "exception": false,
     "start_time": "2024-03-09T08:03:58.513181",
     "status": "completed"
    },
    "tags": []
   },
   "outputs": [
    {
     "name": "stdout",
     "output_type": "stream",
     "text": [
      "0:\tlearn: 0.6655069\ttest: 0.6658067\tbest: 0.6658067 (0)\ttotal: 26.6ms\tremaining: 26.6s\n",
      "100:\tlearn: 0.2942144\ttest: 0.3023251\tbest: 0.3023251 (100)\ttotal: 2.56s\tremaining: 22.8s\n",
      "200:\tlearn: 0.2745777\ttest: 0.2886031\tbest: 0.2886031 (200)\ttotal: 4.99s\tremaining: 19.8s\n",
      "300:\tlearn: 0.2655649\ttest: 0.2847957\tbest: 0.2847681 (299)\ttotal: 7.36s\tremaining: 17.1s\n",
      "400:\tlearn: 0.2559411\ttest: 0.2812536\tbest: 0.2812078 (394)\ttotal: 9.71s\tremaining: 14.5s\n",
      "500:\tlearn: 0.2490497\ttest: 0.2807982\tbest: 0.2806173 (492)\ttotal: 12.1s\tremaining: 12s\n",
      "600:\tlearn: 0.2418929\ttest: 0.2811279\tbest: 0.2806173 (492)\ttotal: 14.5s\tremaining: 9.65s\n",
      "700:\tlearn: 0.2354370\ttest: 0.2814163\tbest: 0.2806173 (492)\ttotal: 17.1s\tremaining: 7.28s\n",
      "800:\tlearn: 0.2301853\ttest: 0.2821071\tbest: 0.2806173 (492)\ttotal: 19.3s\tremaining: 4.8s\n",
      "900:\tlearn: 0.2251260\ttest: 0.2818399\tbest: 0.2806173 (492)\ttotal: 21.6s\tremaining: 2.37s\n",
      "999:\tlearn: 0.2197045\ttest: 0.2821172\tbest: 0.2806173 (492)\ttotal: 23.8s\tremaining: 0us\n",
      "\n",
      "bestTest = 0.2806173158\n",
      "bestIteration = 492\n",
      "\n",
      "Shrink model to first 493 iterations.\n",
      "Model fitted in 24.18 seconds\n"
     ]
    }
   ],
   "source": [
    "clf=catboost.CatBoostClassifier(learning_rate=0.03,grow_policy='Lossguide',min_data_in_leaf=20,l2_leaf_reg=0.5,random_seed=42,boosting_type='Plain',verbose=100)\n",
    "start=time.time()\n",
    "clf.fit(X_train,y_train,cat_features=[6,7,8,9,10,11,12,13],eval_set=(X_val,y_val))\n",
    "end=time.time()\n",
    "training_time=end-start\n",
    "print(f'Model fitted in {round(training_time,2)} seconds')"
   ]
  },
  {
   "cell_type": "code",
   "execution_count": 69,
   "id": "f797cf99",
   "metadata": {
    "execution": {
     "iopub.execute_input": "2024-03-09T08:04:22.868728Z",
     "iopub.status.busy": "2024-03-09T08:04:22.867954Z",
     "iopub.status.idle": "2024-03-09T08:04:22.955056Z",
     "shell.execute_reply": "2024-03-09T08:04:22.953926Z"
    },
    "id": "x1jmd8u4TtN2",
    "outputId": "0952f678-f7cd-4b2b-b896-ce317ed5da80",
    "papermill": {
     "duration": 0.147431,
     "end_time": "2024-03-09T08:04:22.957110",
     "exception": false,
     "start_time": "2024-03-09T08:04:22.809679",
     "status": "completed"
    },
    "tags": []
   },
   "outputs": [
    {
     "name": "stdout",
     "output_type": "stream",
     "text": [
      "Accuracy = 87.8 %\n",
      "Precision = 78.5 %\n",
      "Recall = 68.4%\n",
      "F1 score = 73.1%\n"
     ]
    }
   ],
   "source": [
    "y_pred=clf.predict(X_test)\n",
    "evaluate_model(y_test,y_pred)"
   ]
  },
  {
   "cell_type": "markdown",
   "id": "0a20976d",
   "metadata": {
    "id": "ZzPuflTPUGza",
    "papermill": {
     "duration": 0.060079,
     "end_time": "2024-03-09T08:04:23.076031",
     "exception": false,
     "start_time": "2024-03-09T08:04:23.015952",
     "status": "completed"
    },
    "tags": []
   },
   "source": [
    "min_data_in_leaf=40"
   ]
  },
  {
   "cell_type": "code",
   "execution_count": 70,
   "id": "0452f7dd",
   "metadata": {
    "execution": {
     "iopub.execute_input": "2024-03-09T08:04:23.190375Z",
     "iopub.status.busy": "2024-03-09T08:04:23.189485Z",
     "iopub.status.idle": "2024-03-09T08:04:47.218634Z",
     "shell.execute_reply": "2024-03-09T08:04:47.217404Z"
    },
    "id": "MJEA6ESCUGzb",
    "outputId": "fc17b3ce-c6d5-4c51-fd15-9a3aac7d7b26",
    "papermill": {
     "duration": 24.088359,
     "end_time": "2024-03-09T08:04:47.220975",
     "exception": false,
     "start_time": "2024-03-09T08:04:23.132616",
     "status": "completed"
    },
    "tags": []
   },
   "outputs": [
    {
     "name": "stdout",
     "output_type": "stream",
     "text": [
      "0:\tlearn: 0.6654499\ttest: 0.6657779\tbest: 0.6657779 (0)\ttotal: 26.6ms\tremaining: 26.5s\n",
      "100:\tlearn: 0.2943867\ttest: 0.3027108\tbest: 0.3027108 (100)\ttotal: 2.35s\tremaining: 20.9s\n",
      "200:\tlearn: 0.2744083\ttest: 0.2885313\tbest: 0.2885313 (200)\ttotal: 4.78s\tremaining: 19s\n",
      "300:\tlearn: 0.2661861\ttest: 0.2846455\tbest: 0.2846455 (300)\ttotal: 7.21s\tremaining: 16.8s\n",
      "400:\tlearn: 0.2569442\ttest: 0.2815728\tbest: 0.2815447 (398)\ttotal: 9.69s\tremaining: 14.5s\n",
      "500:\tlearn: 0.2501471\ttest: 0.2806881\tbest: 0.2806707 (498)\ttotal: 12.1s\tremaining: 12s\n",
      "600:\tlearn: 0.2444923\ttest: 0.2804404\tbest: 0.2803533 (585)\ttotal: 14.2s\tremaining: 9.45s\n",
      "700:\tlearn: 0.2389646\ttest: 0.2804974\tbest: 0.2803533 (585)\ttotal: 16.5s\tremaining: 7.03s\n",
      "800:\tlearn: 0.2338276\ttest: 0.2807935\tbest: 0.2803533 (585)\ttotal: 18.7s\tremaining: 4.66s\n",
      "900:\tlearn: 0.2289832\ttest: 0.2811315\tbest: 0.2803533 (585)\ttotal: 21s\tremaining: 2.3s\n",
      "999:\tlearn: 0.2248859\ttest: 0.2814338\tbest: 0.2803533 (585)\ttotal: 23.7s\tremaining: 0us\n",
      "\n",
      "bestTest = 0.2803532667\n",
      "bestIteration = 585\n",
      "\n",
      "Shrink model to first 586 iterations.\n",
      "Model fitted in 24.02 seconds\n"
     ]
    }
   ],
   "source": [
    "clf=catboost.CatBoostClassifier(learning_rate=0.03,grow_policy='Lossguide',min_data_in_leaf=40,l2_leaf_reg=0.5,random_seed=42,boosting_type='Plain',verbose=100)\n",
    "start=time.time()\n",
    "clf.fit(X_train,y_train,cat_features=[6,7,8,9,10,11,12,13],eval_set=(X_val,y_val))\n",
    "end=time.time()\n",
    "training_time=end-start\n",
    "print(f'Model fitted in {round(training_time,2)} seconds')"
   ]
  },
  {
   "cell_type": "code",
   "execution_count": 71,
   "id": "ef978205",
   "metadata": {
    "execution": {
     "iopub.execute_input": "2024-03-09T08:04:47.349328Z",
     "iopub.status.busy": "2024-03-09T08:04:47.348405Z",
     "iopub.status.idle": "2024-03-09T08:04:47.444270Z",
     "shell.execute_reply": "2024-03-09T08:04:47.443136Z"
    },
    "id": "lIw1p091UGzc",
    "outputId": "8def8b32-1c82-4a8b-8dc8-9bdfe4cedfde",
    "papermill": {
     "duration": 0.161637,
     "end_time": "2024-03-09T08:04:47.446972",
     "exception": false,
     "start_time": "2024-03-09T08:04:47.285335",
     "status": "completed"
    },
    "tags": []
   },
   "outputs": [
    {
     "name": "stdout",
     "output_type": "stream",
     "text": [
      "Accuracy = 87.9 %\n",
      "Precision = 78.6 %\n",
      "Recall = 68.7%\n",
      "F1 score = 73.3%\n"
     ]
    }
   ],
   "source": [
    "y_pred=clf.predict(X_test)\n",
    "evaluate_model(y_test,y_pred)"
   ]
  },
  {
   "cell_type": "markdown",
   "id": "40b35278",
   "metadata": {
    "id": "wHDzInMiUgLi",
    "papermill": {
     "duration": 0.05881,
     "end_time": "2024-03-09T08:04:47.567646",
     "exception": false,
     "start_time": "2024-03-09T08:04:47.508836",
     "status": "completed"
    },
    "tags": []
   },
   "source": [
    "Generally, setting min data in leaf minimize training time"
   ]
  },
  {
   "cell_type": "markdown",
   "id": "803fb32d",
   "metadata": {
    "id": "n4ULwhyD3mR9",
    "papermill": {
     "duration": 0.060704,
     "end_time": "2024-03-09T08:04:47.687001",
     "exception": false,
     "start_time": "2024-03-09T08:04:47.626297",
     "status": "completed"
    },
    "tags": []
   },
   "source": [
    "[Table of Contents](#0)"
   ]
  },
  {
   "cell_type": "markdown",
   "id": "2ba22eb9",
   "metadata": {
    "id": "p6jHpdnYPT_I",
    "papermill": {
     "duration": 0.060567,
     "end_time": "2024-03-09T08:04:47.805659",
     "exception": false,
     "start_time": "2024-03-09T08:04:47.745092",
     "status": "completed"
    },
    "tags": []
   },
   "source": [
    "<a name=\"14\"></a>\n",
    "### **8) nan_mode:**\n",
    "* Forbidden : Missing values are not supported, their presence is interpreted as an error.\n",
    "\n",
    "* Min (Default): Missing values are processed as the minimum value (less than all other values) for the feature. It is guaranteed that a split that separates missing values from all other values is considered when selecting trees.\n",
    "\n",
    "* Max : Missing values are processed as the maximum value (greater than all other values) for the feature. It is guaranteed that a split that separates missing values from all other values is considered when selecting trees.\n",
    "\n",
    "____________________________________________________________________________________\n",
    "Adult dataset doesn't contain any missings to try this parameter"
   ]
  },
  {
   "cell_type": "markdown",
   "id": "854954c7",
   "metadata": {
    "id": "RPgZBN5mRDw6",
    "papermill": {
     "duration": 0.061,
     "end_time": "2024-03-09T08:04:47.925853",
     "exception": false,
     "start_time": "2024-03-09T08:04:47.864853",
     "status": "completed"
    },
    "tags": []
   },
   "source": [
    "**Note that** you are able to plot the change in logloss, accuracy...etc while training for both test(validation) and train but it's available only if you are using `Jupyter Notebook` or `TensorBoard` and needs additional packages,\n",
    "see [Catboost Visualization](https://catboost.ai/en/docs/features/visualization) for more details"
   ]
  },
  {
   "cell_type": "markdown",
   "id": "4a522d11",
   "metadata": {
    "id": "hFCd9HfzRu5a",
    "papermill": {
     "duration": 0.060404,
     "end_time": "2024-03-09T08:04:48.048468",
     "exception": false,
     "start_time": "2024-03-09T08:04:47.988064",
     "status": "completed"
    },
    "tags": []
   },
   "source": [
    "**Catboost** library has great capabilites and hyperparameters to tune , see [Catboost training parameters](https://catboost.ai/en/docs/references/training-parameters/common) for more details"
   ]
  },
  {
   "cell_type": "markdown",
   "id": "3f6b413c",
   "metadata": {
    "id": "Sq54AE423n23",
    "papermill": {
     "duration": 0.061055,
     "end_time": "2024-03-09T08:04:48.170933",
     "exception": false,
     "start_time": "2024-03-09T08:04:48.109878",
     "status": "completed"
    },
    "tags": []
   },
   "source": [
    "[Table of Contents](#0)"
   ]
  },
  {
   "cell_type": "markdown",
   "id": "254efeec",
   "metadata": {
    "papermill": {
     "duration": 0.062932,
     "end_time": "2024-03-09T08:04:48.295070",
     "exception": false,
     "start_time": "2024-03-09T08:04:48.232138",
     "status": "completed"
    },
    "tags": []
   },
   "source": [
    "Generally speaking:\n",
    "* For few iterations use less learning rate than many iterations, note that catboost can determine automatically the best learning rate\n",
    "* In our case l2_regularization_leaf was best at 0.5,we recommend trying different values to find the best\n",
    "* Symmetric trees are much faster than other types of grow in theory but it's not always the case practically\n",
    "* Plain boosting type is much faster than ordered one\n",
    "* You can let catboost determine your bootstrap type automatically\n",
    "* For non symmetric trees(e.g. lossguide) you can use min data in leaf and max leaves as a kind of regularization"
   ]
  },
  {
   "cell_type": "markdown",
   "id": "162839ca",
   "metadata": {
    "id": "K7MRVv8fuzZX",
    "papermill": {
     "duration": 0.060322,
     "end_time": "2024-03-09T08:04:48.416743",
     "exception": false,
     "start_time": "2024-03-09T08:04:48.356421",
     "status": "completed"
    },
    "tags": []
   },
   "source": [
    "<a name=\"15\"></a>\n",
    "## **Limitations**\n",
    "\n",
    "1.   Interpretability: Using categorical embeddings might make it harder to interpret the importance of individual categorical levels.\n",
    "2.   Performance with Homogeneous Data: Research has indicated that while CatBoost excels with heterogeneous data (data containing features of different types), it may not be the optimal choice for homogeneous data (data where all features are of the same type). Studies comparing gradient-boosted machine learning algorithms with deep learning algorithms on homogeneous data, such as digital image data, found that deep learning algorithms performed better in terms of accuracy and Area Under the Receiver Operating Characteristic Curve (AUC). This suggests that CatBoost, being a gradient-boosted decision tree algorithm, is better suited for problems involving heterogeneous data rather than homogeneous data.\n",
    "3.  Catboost is slow with datasets that have a small number of features compared to other gradient-boosting algorithms (CPU speed)\n"
   ]
  },
  {
   "cell_type": "markdown",
   "id": "9c53f07e",
   "metadata": {
    "id": "JX_3V5VP3paX",
    "papermill": {
     "duration": 0.061219,
     "end_time": "2024-03-09T08:04:48.540475",
     "exception": false,
     "start_time": "2024-03-09T08:04:48.479256",
     "status": "completed"
    },
    "tags": []
   },
   "source": [
    "[Table of Contents](#0)"
   ]
  },
  {
   "cell_type": "markdown",
   "id": "3a669aff",
   "metadata": {
    "id": "pL1rS1bO2Ymx",
    "papermill": {
     "duration": 0.061614,
     "end_time": "2024-03-09T08:04:48.665009",
     "exception": false,
     "start_time": "2024-03-09T08:04:48.603395",
     "status": "completed"
    },
    "tags": []
   },
   "source": [
    "<a name=\"16\"></a>\n",
    "## **Optimal Use Cases**\n",
    "Catboost is optimaly used with:\n",
    "1. Categorical Data: CatBoost is particularly effective when dealing with datasets containing categorical features, as it can naturally handle them without the need for one-hot encoding.\n",
    "2. Large Datasets: Due to its efficient implementation and parallelization capabilities, CatBoost performs well on large datasets.\n",
    "\n",
    "CatBoost is a versatile machine-learning model with several popular use cases including:\n",
    "\n",
    "1.  In recommendation systems, it's employed to suggest products or content tailored to user preferences.\n",
    "2.  For fraud detection, it plays a crucial role in identifying fraudulent activities, especially in the financial sector.\n",
    "3. In the realm of image classification, CatBoost excels at categorizing images into different groups based on content.\n",
    "4. In text classification, the model is adept at sorting text into predefined categories, which is particularly useful in sentiment analysis.\n",
    "Another significant application is in customer churn prediction, where it predicts the likelihood of customers discontinuing the use of a service or product.\n",
    "5. In the field of medical diagnoses, CatBoost assists healthcare professionals by diagnosing diseases from complex data sets.\n",
    "6. In natural language processing, the model is utilized for understanding and processing human language, which has a wide range of applications."
   ]
  },
  {
   "cell_type": "markdown",
   "id": "e7519e68",
   "metadata": {
    "id": "hvb7vKhn3rB4",
    "papermill": {
     "duration": 0.061831,
     "end_time": "2024-03-09T08:04:48.787891",
     "exception": false,
     "start_time": "2024-03-09T08:04:48.726060",
     "status": "completed"
    },
    "tags": []
   },
   "source": [
    "[Table of Contents](#0)"
   ]
  },
  {
   "cell_type": "markdown",
   "id": "0f2fd686",
   "metadata": {
    "id": "_wPkyfbRzGBd",
    "papermill": {
     "duration": 0.061127,
     "end_time": "2024-03-09T08:04:48.910237",
     "exception": false,
     "start_time": "2024-03-09T08:04:48.849110",
     "status": "completed"
    },
    "tags": []
   },
   "source": [
    "<a name=\"17\"></a>\n",
    "## **Parallelization Capabilities**\n",
    "\n",
    "1. Training and Prediction: CatBoost efficiently parallelizes both training and prediction processes, making it well-suited for multi-core processors and distributed computing environments.\n",
    "2. Efficiency Impact: The parallelization capabilities contribute to faster training times, especially beneficial for large datasets and complex models.\n",
    "\n"
   ]
  },
  {
   "cell_type": "markdown",
   "id": "53f462de",
   "metadata": {
    "id": "vHR-RG_R3sxX",
    "papermill": {
     "duration": 0.063066,
     "end_time": "2024-03-09T08:04:49.035344",
     "exception": false,
     "start_time": "2024-03-09T08:04:48.972278",
     "status": "completed"
    },
    "tags": []
   },
   "source": [
    "[Table of Contents](#0)"
   ]
  },
  {
   "cell_type": "markdown",
   "id": "a1daf96c",
   "metadata": {
    "id": "lmGkBKX-3t81",
    "papermill": {
     "duration": 0.060708,
     "end_time": "2024-03-09T08:04:49.158160",
     "exception": false,
     "start_time": "2024-03-09T08:04:49.097452",
     "status": "completed"
    },
    "tags": []
   },
   "source": [
    "<a name=\"18\"></a>\n",
    "## **References**\n",
    "* Prokhorenkova, L. et al. (2019). CatBoost: unbiased boosting with categorical features. arXiv:1706.09516 [cs]. Available at: https://arxiv.org/abs/1706.09516.\n",
    "* catboost.ai. Common parameters. [online] Available at: https://catboost.ai/en/docs/references/training-parameters/common. [Accessed 28 Feb. 2024].\n",
    "* CatBoost Model Guide - Advanced Gradient Boosting ML Library by Yandex. [online] Available at: https://www.modelbit.com/model-hub/catboost-model-guide#:~:text=data%20is%20critical.- [Accessed 28 Feb. 2024].\n",
    "* Anna Veronika Dorogush: Mastering gradient boosting with CatBoost | PyData London 2019. [online] Available at: https://www.youtube.com/watch?v=usdEWSDisS0 [Accessed 28 Feb. 2024]."
   ]
  }
 ],
 "metadata": {
  "colab": {
   "provenance": []
  },
  "kaggle": {
   "accelerator": "nvidiaTeslaT4",
   "dataSources": [
    {
     "datasetId": 4551879,
     "sourceId": 7778845,
     "sourceType": "datasetVersion"
    }
   ],
   "dockerImageVersionId": 30664,
   "isGpuEnabled": true,
   "isInternetEnabled": true,
   "language": "python",
   "sourceType": "notebook"
  },
  "kernelspec": {
   "display_name": "Python 3",
   "language": "python",
   "name": "python3"
  },
  "language_info": {
   "codemirror_mode": {
    "name": "ipython",
    "version": 3
   },
   "file_extension": ".py",
   "mimetype": "text/x-python",
   "name": "python",
   "nbconvert_exporter": "python",
   "pygments_lexer": "ipython3",
   "version": "3.10.13"
  },
  "papermill": {
   "default_parameters": {},
   "duration": 1007.486382,
   "end_time": "2024-03-09T08:04:49.942613",
   "environment_variables": {},
   "exception": null,
   "input_path": "__notebook__.ipynb",
   "output_path": "__notebook__.ipynb",
   "parameters": {},
   "start_time": "2024-03-09T07:48:02.456231",
   "version": "2.5.0"
  }
 },
 "nbformat": 4,
 "nbformat_minor": 5
}
